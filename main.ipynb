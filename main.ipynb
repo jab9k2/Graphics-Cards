{
 "cells": [
  {
   "cell_type": "code",
   "execution_count": 1,
   "id": "48ec4ad1",
   "metadata": {},
   "outputs": [],
   "source": [
    "from bs4 import BeautifulSoup\n",
    "#from pandas.compat import StringIO\n",
    "import time\n",
    "import io\n",
    "from io import StringIO\n",
    "import requests\n",
    "import pandas as pd\n",
    "import re"
   ]
  },
  {
   "cell_type": "code",
   "execution_count": 2,
   "id": "2d82323a",
   "metadata": {},
   "outputs": [],
   "source": [
    "url = 'https://www.techpowerup.com/gpu-specs/'\n",
    "source = requests.get(url)\n",
    "#print(source.status_code)\n",
    "src = source.content\n",
    "soup = BeautifulSoup(src,'lxml')\n",
    "\n",
    "links = []\n",
    "for i in soup.find('div', class_=\"table-wrapper\").find_all('tr'):\n",
    "    next_page = i.find('a')\n",
    "    if next_page != None:\n",
    "        page_list = next_page.attrs['href'].strip('/gpu-specs/')\n",
    "        links.append(url+page_list)\n",
    "\n"
   ]
  },
  {
   "cell_type": "code",
   "execution_count": 11,
   "id": "79d35b0d",
   "metadata": {},
   "outputs": [
    {
     "name": "stdout",
     "output_type": "stream",
     "text": [
      "['https://www.techpowerup.com/gpu-specs/force-rtx-3060.c3682', 'https://www.techpowerup.com/gpu-specs/force-rtx-3090-ti.c3829', 'https://www.techpowerup.com/gpu-specs/force-rtx-3060-ti.c3681', 'https://www.techpowerup.com/gpu-specs/force-rtx-3050-8-gb.c3858', 'https://www.techpowerup.com/gpu-specs/radeon-rx-6600-xt.c3774', 'https://www.techpowerup.com/gpu-specs/radeon-rx-6400.c3813', 'https://www.techpowerup.com/gpu-specs/force-rtx-3080.c3621', 'https://www.techpowerup.com/gpu-specs/force-rtx-3070-ti.c3675', 'https://www.techpowerup.com/gpu-specs/force-rtx-3070.c3674', 'https://www.techpowerup.com/gpu-specs/radeon-rx-6600.c3696', 'https://www.techpowerup.com/gpu-specs/force-gtx-1050-ti.c2885', 'https://www.techpowerup.com/gpu-specs/force-rtx-2060.c3310', 'https://www.techpowerup.com/gpu-specs/force-gtx-1650.c3366', 'https://www.techpowerup.com/gpu-specs/radeon-rx-6500-xt.c3850', 'https://www.techpowerup.com/gpu-specs/force-gtx-1060-6-gb.c2862', 'https://www.techpowerup.com/gpu-specs/force-rtx-3080-ti.c3735', 'https://www.techpowerup.com/gpu-specs/force-rtx-3090.c3622', 'https://www.techpowerup.com/gpu-specs/radeon-rx-6700-xt.c3695', 'https://www.techpowerup.com/gpu-specs/force-gtx-970.c2620', 'https://www.techpowerup.com/gpu-specs/force-gtx-1080-ti.c2877', 'https://www.techpowerup.com/gpu-specs/radeon-rx-580.c2938', 'https://www.techpowerup.com/gpu-specs/force-gtx-960.c2637', 'https://www.techpowerup.com/gpu-specs/force-gtx-1070.c2840', 'https://www.techpowerup.com/gpu-specs/radeon-rx-6900-xt.c3481', 'https://www.techpowerup.com/gpu-specs/force-gtx-750-ti.c2548', 'https://www.techpowerup.com/gpu-specs/force-gtx-1080.c2839', 'https://www.techpowerup.com/gpu-specs/force-gt-1030.c2954', 'https://www.techpowerup.com/gpu-specs/radeon-rx-570.c2939', 'https://www.techpowerup.com/gpu-specs/force-gtx-1660-super.c3458', 'https://www.techpowerup.com/gpu-specs/radeon-rx-550.c2947', 'https://www.techpowerup.com/gpu-specs/force-gtx-1660-ti.c3364', 'https://www.techpowerup.com/gpu-specs/force-rtx-2080-ti.c3305', 'https://www.techpowerup.com/gpu-specs/force-210.c2020', 'https://www.techpowerup.com/gpu-specs/force-gtx-1050.c2875', 'https://www.techpowerup.com/gpu-specs/force-gtx-550-ti.c274', 'https://www.techpowerup.com/gpu-specs/force-gtx-980-ti.c2724', 'https://www.techpowerup.com/gpu-specs/radeon-rx-6800-xt.c3694', 'https://www.techpowerup.com/gpu-specs/force-gtx-1650-super.c3411', 'https://www.techpowerup.com/gpu-specs/force-gtx-1660.c3365', 'https://www.techpowerup.com/gpu-specs/force-gt-730.c1988', 'https://www.techpowerup.com/gpu-specs/force-rtx-2070-super.c3440', 'https://www.techpowerup.com/gpu-specs/force-rtx-2070.c3252', 'https://www.techpowerup.com/gpu-specs/force-rtx-2060-super.c3441', 'https://www.techpowerup.com/gpu-specs/radeon-rx-560.c2940', 'https://www.techpowerup.com/gpu-specs/force-rtx-4090.c3889', 'https://www.techpowerup.com/gpu-specs/force-gtx-980.c2621', 'https://www.techpowerup.com/gpu-specs/force-gtx-950.c2747', 'https://www.techpowerup.com/gpu-specs/force-gtx-580.c270', 'https://www.techpowerup.com/gpu-specs/force-gtx-760.c1857', 'https://www.techpowerup.com/gpu-specs/radeon-rx-5700-xt.c3339']\n"
     ]
    }
   ],
   "source": [
    "print(links)"
   ]
  },
  {
   "cell_type": "code",
   "execution_count": null,
   "id": "42970836",
   "metadata": {},
   "outputs": [],
   "source": []
  },
  {
   "cell_type": "code",
   "execution_count": 18,
   "id": "68a952d5",
   "metadata": {
    "scrolled": true
   },
   "outputs": [
    {
     "name": "stdout",
     "output_type": "stream",
     "text": [
      "200\n",
      "-----------48----------\n",
      "NVIDIA GeForce RTX 3060\n",
      "<class 'bs4.element.ResultSet'>\n",
      "200\n",
      "-----------49----------\n",
      "NVIDIA GeForce RTX 3090 Ti\n",
      "<class 'bs4.element.ResultSet'>\n",
      "200\n",
      "-----------50----------\n",
      "NVIDIA GeForce RTX 3060 Ti\n",
      "<class 'bs4.element.ResultSet'>\n",
      "200\n",
      "-----------51----------\n",
      "NVIDIA GeForce RTX 3050 8 GB\n",
      "<class 'bs4.element.ResultSet'>\n",
      "200\n",
      "-----------52----------\n",
      "AMD Radeon RX 6600 XT\n",
      "<class 'bs4.element.ResultSet'>\n",
      "200\n",
      "-----------53----------\n",
      "AMD Radeon RX 6400\n",
      "<class 'bs4.element.ResultSet'>\n",
      "429\n",
      "-----------54----------\n"
     ]
    },
    {
     "ename": "AttributeError",
     "evalue": "'NoneType' object has no attribute 'text'",
     "output_type": "error",
     "traceback": [
      "\u001b[1;31m---------------------------------------------------------------------------\u001b[0m",
      "\u001b[1;31mAttributeError\u001b[0m                            Traceback (most recent call last)",
      "\u001b[1;32m~\\AppData\\Local\\Temp/ipykernel_12608/515073810.py\u001b[0m in \u001b[0;36m<module>\u001b[1;34m\u001b[0m\n\u001b[0;32m     11\u001b[0m             \u001b[0msoup\u001b[0m \u001b[1;33m=\u001b[0m \u001b[0mBeautifulSoup\u001b[0m\u001b[1;33m(\u001b[0m\u001b[0msrc\u001b[0m\u001b[1;33m,\u001b[0m\u001b[1;34m'lxml'\u001b[0m\u001b[1;33m)\u001b[0m\u001b[1;33m\u001b[0m\u001b[1;33m\u001b[0m\u001b[0m\n\u001b[0;32m     12\u001b[0m             \u001b[0mprint\u001b[0m\u001b[1;33m(\u001b[0m\u001b[1;34mf\"-----------{x}----------\"\u001b[0m\u001b[1;33m)\u001b[0m\u001b[1;33m\u001b[0m\u001b[1;33m\u001b[0m\u001b[0m\n\u001b[1;32m---> 13\u001b[1;33m             \u001b[0mtitle\u001b[0m \u001b[1;33m=\u001b[0m \u001b[0msoup\u001b[0m\u001b[1;33m.\u001b[0m\u001b[0mfind\u001b[0m\u001b[1;33m(\u001b[0m\u001b[1;34m'h1'\u001b[0m\u001b[1;33m,\u001b[0m \u001b[0mclass_\u001b[0m\u001b[1;33m=\u001b[0m\u001b[1;34m\"gpudb-name\"\u001b[0m\u001b[1;33m)\u001b[0m\u001b[1;33m.\u001b[0m\u001b[0mtext\u001b[0m\u001b[1;33m\u001b[0m\u001b[1;33m\u001b[0m\u001b[0m\n\u001b[0m\u001b[0;32m     14\u001b[0m             \u001b[0mstats\u001b[0m \u001b[1;33m=\u001b[0m \u001b[0msoup\u001b[0m\u001b[1;33m.\u001b[0m\u001b[0mfind\u001b[0m\u001b[1;33m(\u001b[0m\u001b[1;34m'div'\u001b[0m\u001b[1;33m)\u001b[0m\u001b[1;33m.\u001b[0m\u001b[0mfind_all\u001b[0m\u001b[1;33m(\u001b[0m\u001b[1;34m'dl'\u001b[0m\u001b[1;33m)\u001b[0m\u001b[1;33m\u001b[0m\u001b[1;33m\u001b[0m\u001b[0m\n\u001b[0;32m     15\u001b[0m             \u001b[0mprint\u001b[0m\u001b[1;33m(\u001b[0m\u001b[0mtitle\u001b[0m\u001b[1;33m)\u001b[0m\u001b[1;33m\u001b[0m\u001b[1;33m\u001b[0m\u001b[0m\n",
      "\u001b[1;31mAttributeError\u001b[0m: 'NoneType' object has no attribute 'text'"
     ]
    }
   ],
   "source": [
    "is_running = True\n",
    "while is_running:\n",
    "    x = 48\n",
    "    if x < len(links):\n",
    "       \n",
    "        for i in links:\n",
    "            time.sleep(2)\n",
    "            source = requests.get(i)\n",
    "            print(source.status_code)\n",
    "            src = source.content\n",
    "            soup = BeautifulSoup(src,'lxml')\n",
    "            print(f\"-----------{x}----------\")\n",
    "            title = soup.find('h1', class_=\"gpudb-name\").text\n",
    "            stats = soup.find('div').find_all('dl')\n",
    "            print(title)\n",
    "            #basic_heading = stats.find('dt').text\n",
    "            print(type(stats))\n",
    "            \n",
    "            \n",
    "            \n",
    "            \n",
    "        x+=1\n",
    "    else:\n",
    "       is_running = False "
   ]
  },
  {
   "cell_type": "code",
   "execution_count": null,
   "id": "e102ff66",
   "metadata": {},
   "outputs": [],
   "source": [
    "            list_info = []\n",
    "            list_info_heading = []\n",
    "            for val in stats:\n",
    "                basic_info = val.find('dd').text.replace('\\n',\"\").replace('\\t',\"\")\n",
    "                basic_heading = val.find('dt').text\n",
    "                list_info.append(basic_info)\n",
    "                list_info_heading.append(basic_heading)\n",
    "    \n",
    "    \n",
    "    \n",
    "    \n",
    "    \n",
    "    list_info = []\n",
    "            list_info_heading = []\n",
    "            for val in stats:\n",
    "                basic_info = val.find('dd').text.replace('\\n',\"\").replace('\\t',\"\")\n",
    "                basic_heading = val.find('dt').text\n",
    "                list_info.append(basic_info)\n",
    "                list_info_heading.append(basic_heading)"
   ]
  },
  {
   "cell_type": "code",
   "execution_count": null,
   "id": "425d92e9",
   "metadata": {},
   "outputs": [],
   "source": []
  },
  {
   "cell_type": "code",
   "execution_count": null,
   "id": "a9d5d97a",
   "metadata": {},
   "outputs": [],
   "source": [
    "list_info = []\n",
    "        list_info_heading = []\n",
    "        for val in stats:\n",
    "            basic_info = val.find('dd').text.replace('\\n',\"\").replace('\\t',\"\")\n",
    "            basic_heading = val.find('dt').text\n",
    "            list_info.append(basic_info)\n",
    "            list_info_heading.append(basic_heading)"
   ]
  },
  {
   "cell_type": "code",
   "execution_count": null,
   "id": "992d535a",
   "metadata": {
    "scrolled": true
   },
   "outputs": [],
   "source": [
    "title = soup2.find('h1', class_=\"gpudb-name\").text\n",
    "#specs = soup2.find('dd', class_=\"gpudb-specs-large__value\")\n",
    "specs1 = soup2.find('div').find_all('dl')\n",
    "#specs2 = soup2.find('dl', class_=\"clearfix\").find_all('div')\n",
    "#specs1 = soup2.find('dl', class_=\"gpudb-specs-large\").find_all('div')\n",
    "print(title)\n",
    "list_info = []\n",
    "list_info_heading = []\n",
    "for spec1 in specs1:\n",
    "    basic_info = spec1.find('dd').text.replace('\\n',\"\").replace('\\t',\"\")\n",
    "    basic_heading = spec1.find('dt').text\n",
    "    list_info.append(basic_info)\n",
    "    list_info_heading.append(basic_heading)\n",
    "    \n",
    "print(list_info_heading)\n",
    "#print(list_info)\n",
    "\n",
    "#for i in list_info:\n",
    "    #print(list_info[i].strip(','))\n",
    "\n",
    "keep = []\n",
    "pattern_sub = ',|,'\n",
    "pattern_find = '\\d+\\.*\\d*|$'\n",
    "#pattern_find = '\\d+|$'\n",
    "\n",
    "test_list = [re.sub(pattern_sub, '', i) for i in list_info]\n",
    "test_list2 = [re.findall(pattern_find, i)[0] for i in test_list]\n",
    "# re.findall('\\d+|$', 'aa33bbb44')[0]\n",
    "#for i in list_info:'/^[+-]?([0-9]+\\.?[0-9]*|\\.[0-9]+)$/'\n",
    "#x = [re.findall(pattern, ' ', i) for i in list_info]\n",
    "#x = list([re.findall(pattern, list_info) for i in list_info])\n",
    "#pattern = '[0-9]'\n",
    "#test_list = [re.sub(pattern, '', i) for i in list_info]\n",
    "\n",
    "#string = ''.join(list_info)\n",
    "#match = re.findall(pattern, string)\n",
    "# Pattern.compile(\"(^|\\\\s)([0-9]+)($|\\\\s)\");\n",
    "# match = re.findall(r\"\\([A-Z]+\\)|Pool ID\", string)\n",
    "\n",
    "  \n",
    "\n",
    "#print(x)    \n",
    "    \n",
    "#print(x)\n",
    "#print(keep)\n",
    "\n",
    "    \n",
    "#print(title)\n",
    "\n",
    "    \n",
    "    #test = spec.find('dd', class_='gpudb-specs-large__value').text \\n\\t\\t\\t\\t\\t\\t\\t\\t\\t\\t\\n\\t\\t\\t\\t\\t\n",
    "    #print(list_value) ,class_='gpudb-specs-large__value'\n",
    "    # ,class_='gpudb-specs-large__title' replace(\"geeks\", \"GeeksforGeeks\", 3))\n",
    "\n",
    "#print(specs1)   .strip('\\t').strip('\\n').strip()\n",
    "    \n",
    "#movies = soup.find('tbody', class_=\"lister-list\").find_all('tr')"
   ]
  },
  {
   "cell_type": "code",
   "execution_count": null,
   "id": "9860af2b",
   "metadata": {
    "scrolled": true
   },
   "outputs": [],
   "source": [
    "print(test_list)  "
   ]
  },
  {
   "cell_type": "code",
   "execution_count": null,
   "id": "30fb77de",
   "metadata": {
    "scrolled": true
   },
   "outputs": [],
   "source": [
    "print(test_list2)"
   ]
  },
  {
   "cell_type": "code",
   "execution_count": null,
   "id": "4f90e51b",
   "metadata": {},
   "outputs": [],
   "source": [
    "#df = pd.read_csv(names=io.StringIO('\\n'.join(list_info_heading)), delim_whitespace=False)\n",
    "#df = pd.DataFrame(list_info_heading)\n",
    "#pd.DataFrame.from_dict(data)\n",
    "temp_dict = {}\n",
    "for key, value in zip(list_info_heading, test_list2):\n",
    "    temp_dict[key] = value  \n",
    "        \n",
    "df = pd.DataFrame(temp_dict, index=[0])\n",
    "\n",
    "\n",
    "#print(list(df.columns))\n",
    "drop_list = ['GPU Name', 'GPU Variant', 'Architecture', 'Foundry', 'Production', 'Slot Width', \n",
    "             'Length', 'Width', 'Height', 'Outputs', 'DirectX', 'OpenGL', 'OpenCL', 'Vulkan', \n",
    "             'Shader Model','Power Connectors','Part Number','Suggested PSU','Predecessor',\n",
    "             'L0 Cache', 'L1 Cache', 'L2 Cache', 'L3 Cache']\n",
    "#columns =['C', 'D']\n",
    "df['Graphics Processor'] = title\n",
    "df = df.drop(columns = drop_list)\n",
    "#df = df.convert_dtypes()\n",
    "#df = df.convert_dtypes().dtypes\n",
    "#df = pd.DataFrame(temp_dict)\n",
    "#df = df.append(temp_dict, ignore_index=True, sort=False)"
   ]
  },
  {
   "cell_type": "code",
   "execution_count": null,
   "id": "86e7d6bf",
   "metadata": {
    "scrolled": true
   },
   "outputs": [],
   "source": [
    "df.info()"
   ]
  },
  {
   "cell_type": "code",
   "execution_count": null,
   "id": "0c3ecade",
   "metadata": {},
   "outputs": [],
   "source": []
  },
  {
   "cell_type": "code",
   "execution_count": null,
   "id": "1e8d9820",
   "metadata": {},
   "outputs": [],
   "source": []
  },
  {
   "cell_type": "code",
   "execution_count": null,
   "id": "a500ae93",
   "metadata": {},
   "outputs": [],
   "source": [
    "cores = spec.find('dd').text\n",
    "    tmu = spec.find('dd').get_text()\n",
    "    rops = spec.find('dd').get_text()\n",
    "    vram = spec.find('dd').get_text()\n",
    "    memtype = spec.find('dd').get_text()\n",
    "    bus = spec.find('dd').get_text()\n",
    "    list_value = [gpu_model, cores, tmu, rops, vram, memtype, bus]\n",
    "\n",
    "for movie in movies:\n",
    "        \n",
    "        name = movie.find('td', class_='titleColumn').a.text\n",
    "        rank = movie.find('td', class_='titleColumn').get_text(strip=True).split('.')[0]\n",
    "        year = movie.find('td', class_='titleColumn').span.text.strip('()')\n",
    "        rating = movie.find('td', class_='ratingColumn imdbRating').strong.text"
   ]
  },
  {
   "cell_type": "code",
   "execution_count": null,
   "id": "b90c3ff4",
   "metadata": {},
   "outputs": [],
   "source": [
    "print(urls[0].strip())"
   ]
  },
  {
   "cell_type": "code",
   "execution_count": null,
   "id": "aa215ce6",
   "metadata": {},
   "outputs": [],
   "source": []
  },
  {
   "cell_type": "code",
   "execution_count": null,
   "id": "4c0c43cd",
   "metadata": {},
   "outputs": [],
   "source": []
  },
  {
   "cell_type": "code",
   "execution_count": null,
   "id": "5ea6daff",
   "metadata": {},
   "outputs": [],
   "source": []
  },
  {
   "cell_type": "code",
   "execution_count": null,
   "id": "28bfe547",
   "metadata": {},
   "outputs": [],
   "source": [
    "html_doc = \"\"\"\n",
    "<html><head><title>The Dormouse's story</title></head>\n",
    "<body>\n",
    "<p class=\"title\"><b>The Dormouse's story</b></p>\n",
    "<p class=\"story\">Once upon a time there were three little sisters; their names:\n",
    "<a href=\"http://example.com/elsie\" class=\"sister\" id=\"link1\">Elsie</a>,\n",
    "<a href=\"http://example.com/lacie\" class=\"sister\" id=\"link2\">Lacie</a> and\n",
    "<a href=\"http://example.com/tillie\" class=\"sister\" id=\"link3\">Tillie</a>;\n",
    "and they lived at the bottom of a well.</p>\n",
    "<p class=\"story\">...</p>\n",
    "<b class=\"boldest\">Extremely bold</b>\n",
    "<blockquote class=\"boldest\">Extremely bold</blockquote>\n",
    "<b id=\"1\">Test 1</b>\n",
    "<b another-attribute=\"1\" id=\"verybold\">Test 2</b>\n",
    "\"\"\"\n"
   ]
  },
  {
   "cell_type": "code",
   "execution_count": null,
   "id": "c7431d43",
   "metadata": {},
   "outputs": [],
   "source": [
    "with open('index.html', 'w') as f:\n",
    "    f.write(html_doc)"
   ]
  },
  {
   "cell_type": "code",
   "execution_count": null,
   "id": "d24e0075",
   "metadata": {},
   "outputs": [],
   "source": [
    "soup = BeautifulSoup(html_doc, 'lxml')\n",
    "#print(soup.prettify())"
   ]
  },
  {
   "cell_type": "code",
   "execution_count": null,
   "id": "dbb70908",
   "metadata": {},
   "outputs": [],
   "source": [
    "print(soup.b)"
   ]
  },
  {
   "cell_type": "code",
   "execution_count": null,
   "id": "c2f86f79",
   "metadata": {},
   "outputs": [],
   "source": [
    "print(soup.find_all('b'))"
   ]
  },
  {
   "cell_type": "code",
   "execution_count": null,
   "id": "c7ed4ad8",
   "metadata": {},
   "outputs": [],
   "source": [
    "print(soup.b.name)"
   ]
  },
  {
   "cell_type": "code",
   "execution_count": null,
   "id": "fb49d20a",
   "metadata": {},
   "outputs": [],
   "source": [
    "tag = soup.b\n",
    "print(tag)\n",
    "tag.name = 'blockquote'\n",
    "print(tag)"
   ]
  },
  {
   "cell_type": "code",
   "execution_count": null,
   "id": "543d3b79",
   "metadata": {},
   "outputs": [],
   "source": [
    "tag = soup.find_all('b')[1]\n",
    "print(tag)"
   ]
  },
  {
   "cell_type": "code",
   "execution_count": null,
   "id": "6df0c542",
   "metadata": {},
   "outputs": [],
   "source": [
    "print(tag['id'])"
   ]
  },
  {
   "cell_type": "code",
   "execution_count": null,
   "id": "bdff95a7",
   "metadata": {},
   "outputs": [],
   "source": [
    "tag = soup.find_all('b')[2]\n",
    "print(tag)"
   ]
  },
  {
   "cell_type": "code",
   "execution_count": null,
   "id": "126fc2f5",
   "metadata": {},
   "outputs": [],
   "source": [
    "print(tag['id'])\n",
    "print(tag['another-attribute'])"
   ]
  },
  {
   "cell_type": "code",
   "execution_count": null,
   "id": "6adff241",
   "metadata": {},
   "outputs": [],
   "source": [
    "tag = soup.find_all('b')[2]\n",
    "print(tag)\n",
    "print(tag.attrs)"
   ]
  },
  {
   "cell_type": "code",
   "execution_count": null,
   "id": "edc44137",
   "metadata": {},
   "outputs": [],
   "source": [
    "print(tag)\n",
    "tag['another-attribute'] = 2\n",
    "print(tag)"
   ]
  },
  {
   "cell_type": "code",
   "execution_count": null,
   "id": "816229bc",
   "metadata": {
    "scrolled": true
   },
   "outputs": [],
   "source": [
    "print(tag)\n",
    "del tag['id']\n",
    "del tag['another-attribute']\n",
    "print(tag)"
   ]
  },
  {
   "cell_type": "code",
   "execution_count": null,
   "id": "277655b2",
   "metadata": {},
   "outputs": [],
   "source": [
    "tag = soup.find_all('b')[2]\n",
    "print(tag)\n",
    "print(tag.string)"
   ]
  },
  {
   "cell_type": "code",
   "execution_count": null,
   "id": "4756d8ec",
   "metadata": {},
   "outputs": [],
   "source": [
    "print(tag)\n",
    "tag.string.replace_with(\"This is another string\")\n",
    "print(tag)"
   ]
  },
  {
   "cell_type": "code",
   "execution_count": null,
   "id": "4945689c",
   "metadata": {},
   "outputs": [],
   "source": []
  },
  {
   "cell_type": "code",
   "execution_count": null,
   "id": "22ba27fe",
   "metadata": {},
   "outputs": [],
   "source": []
  },
  {
   "cell_type": "code",
   "execution_count": null,
   "id": "4a5ff30b",
   "metadata": {},
   "outputs": [],
   "source": []
  },
  {
   "cell_type": "code",
   "execution_count": null,
   "id": "3b9420ba",
   "metadata": {},
   "outputs": [],
   "source": [
    "source = requests.get('https://www.techpowerup.com/gpu-specs/')\n",
    "#print(source.status_code)\n",
    "#print(source.headers)\n",
    "src = source.content\n",
    "#print(src)\n",
    "soup = BeautifulSoup(src,'lxml')\n",
    "\n",
    "urls = []\n",
    "for td_tag in soup.find_all('td'):\n",
    "    a_tag = td_tag.find('a')\n",
    "    if a_tag != None:\n",
    "        urls.append(a_tag.attrs['href'])\n",
    "    #print(type(a_tag)\n",
    "   #a_tag = td_tag.find('a')\n",
    "    #urls.append(a_tag.attrs['href'])\n",
    "    \n",
    "print(urls)"
   ]
  },
  {
   "cell_type": "code",
   "execution_count": null,
   "id": "c01db8be",
   "metadata": {},
   "outputs": [],
   "source": []
  },
  {
   "cell_type": "code",
   "execution_count": null,
   "id": "8b251f04",
   "metadata": {},
   "outputs": [],
   "source": []
  },
  {
   "cell_type": "code",
   "execution_count": null,
   "id": "8433f4e9",
   "metadata": {},
   "outputs": [],
   "source": []
  },
  {
   "cell_type": "code",
   "execution_count": null,
   "id": "40b11b37",
   "metadata": {},
   "outputs": [],
   "source": [
    "source = requests.get('https://www.techpowerup.com/gpu-specs/')\n",
    "\n",
    "#print(source.status_code)\n",
    "#print(source.headers)\n",
    "\n",
    "src = source.content\n",
    "#print(src)\n",
    "soup = BeautifulSoup(src,'lxml')\n",
    "\n",
    "links = soup.find_all('a')\n",
    "#print(links)\n",
    "#print(\"\\n\")\n",
    "for link in links:\n",
    "    #if \"About\" in link.text:\n",
    "        #print(link)\n",
    "    print(link.attrs['href'])\n",
    "    #print()"
   ]
  },
  {
   "cell_type": "code",
   "execution_count": null,
   "id": "c7123acd",
   "metadata": {
    "scrolled": true
   },
   "outputs": [],
   "source": [
    "title = gpu.find('td', class_=\"vendor-NVIDIA\")"
   ]
  },
  {
   "cell_type": "code",
   "execution_count": null,
   "id": "f854e446",
   "metadata": {},
   "outputs": [],
   "source": [
    "print(gpu)"
   ]
  },
  {
   "cell_type": "code",
   "execution_count": null,
   "id": "0e754d41",
   "metadata": {},
   "outputs": [],
   "source": []
  },
  {
   "cell_type": "code",
   "execution_count": null,
   "id": "d1d1ddd5",
   "metadata": {},
   "outputs": [],
   "source": []
  },
  {
   "cell_type": "code",
   "execution_count": null,
   "id": "a89f4ab7",
   "metadata": {},
   "outputs": [],
   "source": []
  },
  {
   "cell_type": "code",
   "execution_count": null,
   "id": "d7407c8e",
   "metadata": {},
   "outputs": [],
   "source": [
    "<td class=\"vendor-NVIDIA\">\n",
    "\t\t<a href=\"/gpu-specs/geforce-rtx-3060.c3682\">GeForce RTX 3060</a>\n",
    "\n",
    "\t\t\t</td>"
   ]
  },
  {
   "cell_type": "code",
   "execution_count": null,
   "id": "5c8bb3f6",
   "metadata": {},
   "outputs": [],
   "source": [
    "try:\n",
    "    source = requests.get('https://www.imdb.com/chart/top/')\n",
    "    source.raise_for_status()\n",
    "    soup = BeautifulSoup(source.text,'html.parser')\n",
    "    movies = soup.find('tbody', class_=\"lister-list\").find_all('tr')\n",
    "    print(movies)\n",
    "    df = pd.DataFrame(columns=['Rank','Name','Year','Rating'])\n",
    "    temp_dict = {}\n",
    "    temp_list = []\n",
    "    \n",
    "    for movie in movies:\n",
    "        name = movie.find('td', class_='titleColumn').a.text\n",
    "        rank = movie.find('td', class_='titleColumn').get_text(strip=True).split('.')[0]\n",
    "        year = movie.find('td', class_='titleColumn').span.text.strip('()')\n",
    "        rating = movie.find('td', class_='ratingColumn imdbRating').strong.text\n",
    "        print(name)\n",
    "        list_key = ['Rank','Name','Year','Rating']\n",
    "        list_value = [rank, name, year, rating]\n",
    "        \n",
    "        for key, value in zip(list_key, list_value):\n",
    "            temp_dict[key] = value\n",
    "            \n",
    "        df = df.append(temp_dict, ignore_index=True, sort=False)\n",
    "   \n",
    "except Exception as e:\n",
    "    print(e)\n",
    "    \n"
   ]
  },
  {
   "cell_type": "code",
   "execution_count": null,
   "id": "1d0bbb07",
   "metadata": {
    "scrolled": true
   },
   "outputs": [],
   "source": [
    "df.head()"
   ]
  },
  {
   "cell_type": "code",
   "execution_count": null,
   "id": "ac79b03e",
   "metadata": {},
   "outputs": [],
   "source": []
  }
 ],
 "metadata": {
  "kernelspec": {
   "display_name": "Python 3 (ipykernel)",
   "language": "python",
   "name": "python3"
  },
  "language_info": {
   "codemirror_mode": {
    "name": "ipython",
    "version": 3
   },
   "file_extension": ".py",
   "mimetype": "text/x-python",
   "name": "python",
   "nbconvert_exporter": "python",
   "pygments_lexer": "ipython3",
   "version": "3.9.7"
  }
 },
 "nbformat": 4,
 "nbformat_minor": 5
}

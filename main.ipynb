{
 "cells": [
  {
   "cell_type": "code",
   "execution_count": 1,
   "id": "48ec4ad1",
   "metadata": {},
   "outputs": [],
   "source": [
    "from bs4 import BeautifulSoup\n",
    "import requests\n",
    "import pandas as pd"
   ]
  },
  {
   "cell_type": "code",
   "execution_count": 2,
   "id": "d677a2da",
   "metadata": {},
   "outputs": [
    {
     "name": "stdout",
     "output_type": "stream",
     "text": [
      "https://www.techpowerup.com/gpu-specs/\n",
      "radeon-rx-7900-xt.c3912\n",
      "https://www.techpowerup.com/gpu-specs/radeon-rx-7900-xt.c3912\n",
      "200\n",
      "['/gpu-specs/radeon-rx-6400.c3813', '/gpu-specs/radeon-rx-6400.c3813', '/gpu-specs/radeon-rx-6400.c3813', '/gpu-specs/geforce-rtx-2050-mobile.c3859', '/gpu-specs/radeon-rx-6650-xt.c3898', '/gpu-specs/radeon-rx-7900-xt.c3912', '/gpu-specs/radeon-hd-5870.c253', '/gpu-specs/radeon-rx-6650-xt.c3898', '/gpu-specs/radeon-rx-6950-xt.c3875', '/gpu-specs/radeon-rx-7700-xt.c3911', '/gpu-specs/radeon-rx-7800-xt.c3839', '/gpu-specs/radeon-rx-7900-xt.c3912', '/gpu-specs/radeon-rx-7700-xt.c3911', '/gpu-specs/geforce-rtx-3050-ti-mobile.c3812', '/gpu-specs/radeon-rx-6750-xt.c3879', '/gpu-specs/arc-7-a780.c3910', '/gpu-specs/arc-7-a780.c3910', '/gpu-specs/arc-3-a350m.c3905', '/gpu-specs/arc-3-a370m.c3906', '/gpu-specs/arc-5-a550m.c3907', '/gpu-specs/arc-7-a730m.c3908', '/gpu-specs/arc-7-a770m.c3909', '/gpu-specs/geforce-rtx-3090-ti.c3829', '/gpu-specs/arc-7-a770m.c3909', '/gpu-specs/arc-7-a730m.c3908', '/gpu-specs/arc-5-a550m.c3907', '/gpu-specs/arc-3-a370m.c3906', '/gpu-specs/arc-3-a350m.c3905', '/gpu-specs/arc-7-a770m.c3909', '/gpu-specs/arc-7-a730m.c3908', '/gpu-specs/geforce-rtx-3060.c3682', '/gpu-specs/nvidia-ga106.g966', '/gpu-specs/geforce-rtx-3090-ti.c3829', '/gpu-specs/nvidia-ga102.g930', '/gpu-specs/geforce-rtx-3060-ti.c3681', '/gpu-specs/nvidia-ga104.g964', '/gpu-specs/geforce-rtx-3050-8-gb.c3858', '/gpu-specs/nvidia-ga106.g966', '/gpu-specs/radeon-rx-6600-xt.c3774', '/gpu-specs/amd-navi-23.g926', '/gpu-specs/geforce-rtx-3080.c3621', '/gpu-specs/nvidia-ga102.g930', '/gpu-specs/radeon-rx-6400.c3813', '/gpu-specs/amd-navi-24.g965', '/gpu-specs/geforce-rtx-3070-ti.c3675', '/gpu-specs/nvidia-ga104.g964', '/gpu-specs/geforce-rtx-3070.c3674', '/gpu-specs/nvidia-ga104.g964', '/gpu-specs/radeon-rx-6600.c3696', '/gpu-specs/amd-navi-23.g926', '/gpu-specs/geforce-rtx-2060.c3310', '/gpu-specs/nvidia-tu106.g875', '/gpu-specs/geforce-gtx-1050-ti.c2885', '/gpu-specs/nvidia-gp107.g801', '/gpu-specs/geforce-gtx-1650.c3366', '/gpu-specs/nvidia-tu117.g881', '/gpu-specs/geforce-gtx-1060-6-gb.c2862', '/gpu-specs/nvidia-gp106.g797', '/gpu-specs/radeon-rx-6500-xt.c3850', '/gpu-specs/amd-navi-24.g965', '/gpu-specs/geforce-rtx-3080-ti.c3735', '/gpu-specs/nvidia-ga102.g930', '/gpu-specs/geforce-rtx-3090.c3622', '/gpu-specs/nvidia-ga102.g930', '/gpu-specs/radeon-rx-6700-xt.c3695', '/gpu-specs/amd-navi-22.g951', '/gpu-specs/geforce-gtx-970.c2620', '/gpu-specs/nvidia-gm204.g767', '/gpu-specs/geforce-gtx-1080-ti.c2877', '/gpu-specs/nvidia-gp102.g798', '/gpu-specs/geforce-gtx-1070.c2840', '/gpu-specs/nvidia-gp104.g793', '/gpu-specs/radeon-rx-580.c2938', '/gpu-specs/amd-polaris-20.g807', '/gpu-specs/geforce-gtx-960.c2637', '/gpu-specs/nvidia-gm206.g775', '/gpu-specs/radeon-rx-6900-xt.c3481', '/gpu-specs/amd-navi-21.g923', '/gpu-specs/geforce-gtx-750-ti.c2548', '/gpu-specs/nvidia-gm107.g762', '/gpu-specs/geforce-gtx-1080.c2839', '/gpu-specs/nvidia-gp104.g793', '/gpu-specs/radeon-rx-570.c2939', '/gpu-specs/amd-polaris-20.g807', '/gpu-specs/geforce-gt-1030.c2954', '/gpu-specs/nvidia-gp108.g808', '/gpu-specs/geforce-gtx-1660-super.c3458', '/gpu-specs/nvidia-tu116.g902', '/gpu-specs/radeon-rx-550.c2947', '/gpu-specs/amd-lexa.g806', '/gpu-specs/geforce-gtx-1660-ti.c3364', '/gpu-specs/nvidia-tu116.g902', '/gpu-specs/geforce-rtx-2080-ti.c3305', '/gpu-specs/nvidia-tu102.g813', '/gpu-specs/geforce-210.c2020', '/gpu-specs/nvidia-gt218.g140', '/gpu-specs/geforce-gtx-1050.c2875', '/gpu-specs/nvidia-gp107.g801', '/gpu-specs/geforce-gtx-550-ti.c274', '/gpu-specs/nvidia-gf116.g88', '/gpu-specs/geforce-gtx-980-ti.c2724', '/gpu-specs/nvidia-gm200.g772', '/gpu-specs/radeon-rx-6800-xt.c3694', '/gpu-specs/amd-navi-21.g923', '/gpu-specs/geforce-gtx-1660.c3365', '/gpu-specs/nvidia-tu116.g902', '/gpu-specs/geforce-gtx-1650-super.c3411', '/gpu-specs/nvidia-tu116.g902', '/gpu-specs/geforce-gt-730.c1988', '/gpu-specs/nvidia-gk208b.g815', '/gpu-specs/geforce-rtx-2070-super.c3440', '/gpu-specs/nvidia-tu104.g854', '/gpu-specs/geforce-rtx-2070.c3252', '/gpu-specs/nvidia-tu106.g875', '/gpu-specs/geforce-rtx-2060-super.c3441', '/gpu-specs/nvidia-tu106.g875', '/gpu-specs/geforce-rtx-4090.c3889', '/gpu-specs/nvidia-ad102.g1005', '/gpu-specs/radeon-rx-560.c2940', '/gpu-specs/amd-polaris-21.g812', '/gpu-specs/geforce-gtx-980.c2621', '/gpu-specs/nvidia-gm204.g767', '/gpu-specs/geforce-gtx-950.c2747', '/gpu-specs/nvidia-gm206.g775', '/gpu-specs/radeon-rx-5700-xt.c3339', '/gpu-specs/amd-navi-10.g861', '/gpu-specs/geforce-gtx-580.c270', '/gpu-specs/nvidia-gf110.g86', '/gpu-specs/geforce-rtx-4070.c3890', '/gpu-specs/nvidia-ad103.g1012']\n"
     ]
    },
    {
     "data": {
      "text/plain": [
       "'\\nfor i in soup.find_all(\\'a\\', href = True):\\n    \\n  # check all link which is contain\\n  # \"www.geeksforgeeks.org\" string \\n  if(\"www.geeksforgeeks.org\" in i[\\'href\\']):\\n      \\n    # call get method to request next url\\n    nextpage = requests.get(i[\\'href\\'])\\n      \\n    # create soup for next url\\n    nextsoup = BeautifulSoup(nextpage.content, \\'html.parser\\')\\n      \\n    # we can scrap any thing of the\\n    # next page here we are scraping title of \\n    # nexturl page string\\n    print(\"next url title : \",nextsoup.find(\\'title\\').string)\\n'"
      ]
     },
     "execution_count": 2,
     "metadata": {},
     "output_type": "execute_result"
    }
   ],
   "source": [
    "url = 'https://www.techpowerup.com/gpu-specs/'\n",
    "source = requests.get(url)\n",
    "print(url)\n",
    "#print(source.status_code)\n",
    "#print(source.headers)\n",
    "src = source.content\n",
    "#print(src)\n",
    "soup = BeautifulSoup(src,'lxml')\n",
    "\n",
    "links = []\n",
    "for td_tag in soup.find_all('td'):\n",
    "    a_tag = td_tag.find('a')\n",
    "    if a_tag != None:\n",
    "        links.append(a_tag.attrs['href'])\n",
    "    #print(type(a_tag)\n",
    "   #a_tag = td_tag.find('a')\n",
    "    #urls.append(a_tag.attrs['href'])\n",
    "link_format = links[5][11:]\n",
    "print(link_format)\n",
    "next_x = url+link_format\n",
    "\n",
    "print(next_x)\n",
    "next_page = requests.get(next_x)\n",
    "print(next_page.status_code)\n",
    "#print(next_page)\n",
    "#next_src = next_page.content\n",
    "soup2 = BeautifulSoup(next_page.content,'lxml')\n",
    "#print(soup2.prettify())\n",
    "print(links)\n",
    "\n",
    "#MissingSchema: Invalid URL 'next_x': No schema supplied. Perhaps you meant http://next_x?\n",
    "#https://www.techpowerup.com/gpu-specs/geforce-rtx-3060.c3682\n",
    "'''\n",
    "for i in soup.find_all('a', href = True):\n",
    "    \n",
    "  # check all link which is contain\n",
    "  # \"www.geeksforgeeks.org\" string \n",
    "  if(\"www.geeksforgeeks.org\" in i['href']):\n",
    "      \n",
    "    # call get method to request next url\n",
    "    nextpage = requests.get(i['href'])\n",
    "      \n",
    "    # create soup for next url\n",
    "    nextsoup = BeautifulSoup(nextpage.content, 'html.parser')\n",
    "      \n",
    "    # we can scrap any thing of the\n",
    "    # next page here we are scraping title of \n",
    "    # nexturl page string\n",
    "    print(\"next url title : \",nextsoup.find('title').string)\n",
    "'''"
   ]
  },
  {
   "cell_type": "code",
   "execution_count": 26,
   "id": "3777d306",
   "metadata": {},
   "outputs": [
    {
     "name": "stdout",
     "output_type": "stream",
     "text": [
      "['Graphics Processor', 'GPU Name', 'GPU Variant', 'Architecture', 'Foundry', 'Process Size', 'Transistors', 'Die Size', 'Release Date', 'Generation', 'Predecessor', 'Production', 'Bus Interface', 'Base Clock', 'Game Clock', 'Boost Clock', 'Memory Clock', 'Memory Size', 'Memory Type', 'Memory Bus', 'Bandwidth', 'Shading Units', 'TMUs', 'ROPs', 'Compute Units', 'RT Cores', 'L0 Cache', 'L1 Cache', 'L2 Cache', 'L3 Cache', 'Pixel Rate', 'Texture Rate', 'FP16 (half) performance', 'FP32 (float) performance', 'FP64 (double) performance', 'Slot Width', 'Length', 'Width', 'Height', 'TDP', 'Suggested PSU', 'Outputs', 'Power Connectors', 'Part Number', 'DirectX', 'OpenGL', 'OpenCL', 'Vulkan', 'Shader Model']\n",
      "['Navi 31', '\\nNavi 31\\n', '\\n\\t\\t\\t\\t\\tNavi 31 XT\\n\\t\\t\\t\\t\\t\\t\\t\\t\\t', 'RDNA 3.0', 'TSMC', '5 nm', 'unknown', 'unknown', '2022', '\\nNavi III\\n(RX 7000)\\t\\t\\t\\t', '\\nNavi II\\n', 'Unreleased', 'PCIe 5.0 x16', '1800 MHz', '1900 MHz', '2200 MHz', '\\n\\t\\t\\t\\t\\t2250 MHz\\n\\t\\t\\t\\t\\t\\t\\t\\t\\t\\t\\n\\t\\t\\t\\t\\t18 Gbps effective\\n\\t\\t\\t\\t\\t\\t\\t\\t\\t', '\\n\\t\\t\\t\\t\\t16 GB\\n\\t\\t\\t\\t', 'GDDR6', '\\n\\t\\t\\t\\t\\t256 bit\\n\\t\\t\\t\\t', '\\n\\t\\t\\t\\t\\t576.0 GB/s\\n\\t\\t\\t\\t', '\\n\\t\\t\\t\\t\\t15360\\n\\t\\t\\t\\t', '\\n\\t\\t\\t\\t\\t960\\n\\t\\t\\t\\t', '\\n\\t\\t\\t\\t\\t256\\n\\t\\t\\t\\t', '\\n\\t\\t\\t\\t\\t240\\n\\t\\t\\t\\t', '\\n\\t\\t\\t\\t\\t240\\n\\t\\t\\t\\t', '32 KB per WGP', '128 KB per Array', '\\n\\t\\t\\t\\t\\t4 MB\\n\\t\\t\\t\\t', '512 MB', '\\n\\t\\t\\t\\t\\t563.2 GPixel/s\\n\\t\\t\\t\\t', '\\n\\t\\t\\t\\t\\t2,112 GTexel/s\\n\\t\\t\\t\\t', '\\n\\t\\t\\t\\t\\t135.2 TFLOPS (2:1)\\n', '\\n\\t\\t\\t\\t\\t67.58 TFLOPS\\n\\t\\t\\t\\t', '\\n\\t\\t\\t\\t\\t4.224 TFLOPS (1:16)\\n', 'Dual-slot', '267 mm\\n\\t\\t\\t\\t\\t10.5 inches', '135 mm\\n\\t\\t\\t\\t\\t5.3 inches', '50 mm\\n\\t\\t\\t\\t\\t2 inches', '300 W', '700 W', '1x HDMI 2.13x DisplayPort 1.4a', '2x 8-pin', '', '12 Ultimate (12_2)', '\\n\\t\\t\\t\\t\\t\\t\\t\\t\\t\\t4.6\\n\\t\\t\\t\\t\\t\\t\\t\\t\\t', '2.1', '1.3', '6.5']\n",
      "AMD Radeon RX 7900 XT\n"
     ]
    }
   ],
   "source": [
    "title = soup2.find('h1', class_=\"gpudb-name\").text\n",
    "#specs = soup2.find('dd', class_=\"gpudb-specs-large__value\")\n",
    "specs1 = soup2.find('div').find_all('dl')\n",
    "#specs2 = soup2.find('dl', class_=\"clearfix\").find_all('div')\n",
    "#specs1 = soup2.find('dl', class_=\"gpudb-specs-large\").find_all('div')\n",
    "#print(title)\n",
    "list_info = []\n",
    "list_info_heading = []\n",
    "for spec1 in specs1:\n",
    "    basic_info = spec1.find('dd').text\n",
    "    basic_heading = spec1.find('dt').text\n",
    "    list_info.append(basic_info)\n",
    "    list_info_heading.append(basic_heading)\n",
    "    \n",
    "print(list_info_heading)\n",
    "print(list_info)\n",
    "    \n",
    "print(title)\n",
    "\n",
    "    \n",
    "    #test = spec.find('dd', class_='gpudb-specs-large__value').text\n",
    "    #print(list_value) ,class_='gpudb-specs-large__value'\n",
    "    # ,class_='gpudb-specs-large__title'\n",
    "\n",
    "#print(specs1)\n",
    "    \n",
    "#movies = soup.find('tbody', class_=\"lister-list\").find_all('tr')"
   ]
  },
  {
   "cell_type": "code",
   "execution_count": 8,
   "id": "97b43375",
   "metadata": {},
   "outputs": [
    {
     "ename": "IndentationError",
     "evalue": "unexpected indent (Temp/ipykernel_664/3385313547.py, line 2)",
     "output_type": "error",
     "traceback": [
      "\u001b[1;36m  File \u001b[1;32m\"C:\\Users\\jab39\\AppData\\Local\\Temp/ipykernel_664/3385313547.py\"\u001b[1;36m, line \u001b[1;32m2\u001b[0m\n\u001b[1;33m    tmu = spec.find('dd').get_text()\u001b[0m\n\u001b[1;37m    ^\u001b[0m\n\u001b[1;31mIndentationError\u001b[0m\u001b[1;31m:\u001b[0m unexpected indent\n"
     ]
    }
   ],
   "source": [
    "cores = spec.find('dd').text\n",
    "    tmu = spec.find('dd').get_text()\n",
    "    rops = spec.find('dd').get_text()\n",
    "    vram = spec.find('dd').get_text()\n",
    "    memtype = spec.find('dd').get_text()\n",
    "    bus = spec.find('dd').get_text()\n",
    "    list_value = [gpu_model, cores, tmu, rops, vram, memtype, bus]\n",
    "\n",
    "for movie in movies:\n",
    "        \n",
    "        name = movie.find('td', class_='titleColumn').a.text\n",
    "        rank = movie.find('td', class_='titleColumn').get_text(strip=True).split('.')[0]\n",
    "        year = movie.find('td', class_='titleColumn').span.text.strip('()')\n",
    "        rating = movie.find('td', class_='ratingColumn imdbRating').strong.text"
   ]
  },
  {
   "cell_type": "code",
   "execution_count": null,
   "id": "198ef070",
   "metadata": {},
   "outputs": [],
   "source": [
    "print(urls[0].strip())"
   ]
  },
  {
   "cell_type": "code",
   "execution_count": null,
   "id": "fcf1a365",
   "metadata": {},
   "outputs": [],
   "source": []
  },
  {
   "cell_type": "code",
   "execution_count": null,
   "id": "39ed2e9a",
   "metadata": {},
   "outputs": [],
   "source": []
  },
  {
   "cell_type": "code",
   "execution_count": null,
   "id": "b9b1d156",
   "metadata": {},
   "outputs": [],
   "source": []
  },
  {
   "cell_type": "code",
   "execution_count": null,
   "id": "317074fa",
   "metadata": {},
   "outputs": [],
   "source": [
    "html_doc = \"\"\"\n",
    "<html><head><title>The Dormouse's story</title></head>\n",
    "<body>\n",
    "<p class=\"title\"><b>The Dormouse's story</b></p>\n",
    "<p class=\"story\">Once upon a time there were three little sisters; their names:\n",
    "<a href=\"http://example.com/elsie\" class=\"sister\" id=\"link1\">Elsie</a>,\n",
    "<a href=\"http://example.com/lacie\" class=\"sister\" id=\"link2\">Lacie</a> and\n",
    "<a href=\"http://example.com/tillie\" class=\"sister\" id=\"link3\">Tillie</a>;\n",
    "and they lived at the bottom of a well.</p>\n",
    "<p class=\"story\">...</p>\n",
    "<b class=\"boldest\">Extremely bold</b>\n",
    "<blockquote class=\"boldest\">Extremely bold</blockquote>\n",
    "<b id=\"1\">Test 1</b>\n",
    "<b another-attribute=\"1\" id=\"verybold\">Test 2</b>\n",
    "\"\"\"\n"
   ]
  },
  {
   "cell_type": "code",
   "execution_count": null,
   "id": "18b16c92",
   "metadata": {},
   "outputs": [],
   "source": [
    "with open('index.html', 'w') as f:\n",
    "    f.write(html_doc)"
   ]
  },
  {
   "cell_type": "code",
   "execution_count": null,
   "id": "a3d4580d",
   "metadata": {},
   "outputs": [],
   "source": [
    "soup = BeautifulSoup(html_doc, 'lxml')\n",
    "#print(soup.prettify())"
   ]
  },
  {
   "cell_type": "code",
   "execution_count": null,
   "id": "93225e22",
   "metadata": {},
   "outputs": [],
   "source": [
    "print(soup.b)"
   ]
  },
  {
   "cell_type": "code",
   "execution_count": null,
   "id": "fe5a6bf4",
   "metadata": {},
   "outputs": [],
   "source": [
    "print(soup.find_all('b'))"
   ]
  },
  {
   "cell_type": "code",
   "execution_count": null,
   "id": "240622dc",
   "metadata": {},
   "outputs": [],
   "source": [
    "print(soup.b.name)"
   ]
  },
  {
   "cell_type": "code",
   "execution_count": null,
   "id": "0db61323",
   "metadata": {},
   "outputs": [],
   "source": [
    "tag = soup.b\n",
    "print(tag)\n",
    "tag.name = 'blockquote'\n",
    "print(tag)"
   ]
  },
  {
   "cell_type": "code",
   "execution_count": null,
   "id": "f04474d0",
   "metadata": {},
   "outputs": [],
   "source": [
    "tag = soup.find_all('b')[1]\n",
    "print(tag)"
   ]
  },
  {
   "cell_type": "code",
   "execution_count": null,
   "id": "3fff2566",
   "metadata": {},
   "outputs": [],
   "source": [
    "print(tag['id'])"
   ]
  },
  {
   "cell_type": "code",
   "execution_count": null,
   "id": "39c7a7d9",
   "metadata": {},
   "outputs": [],
   "source": [
    "tag = soup.find_all('b')[2]\n",
    "print(tag)"
   ]
  },
  {
   "cell_type": "code",
   "execution_count": null,
   "id": "160439ef",
   "metadata": {},
   "outputs": [],
   "source": [
    "print(tag['id'])\n",
    "print(tag['another-attribute'])"
   ]
  },
  {
   "cell_type": "code",
   "execution_count": null,
   "id": "f06c81d7",
   "metadata": {},
   "outputs": [],
   "source": [
    "tag = soup.find_all('b')[2]\n",
    "print(tag)\n",
    "print(tag.attrs)"
   ]
  },
  {
   "cell_type": "code",
   "execution_count": null,
   "id": "2ec0f267",
   "metadata": {},
   "outputs": [],
   "source": [
    "print(tag)\n",
    "tag['another-attribute'] = 2\n",
    "print(tag)"
   ]
  },
  {
   "cell_type": "code",
   "execution_count": null,
   "id": "910e3741",
   "metadata": {
    "scrolled": true
   },
   "outputs": [],
   "source": [
    "print(tag)\n",
    "del tag['id']\n",
    "del tag['another-attribute']\n",
    "print(tag)"
   ]
  },
  {
   "cell_type": "code",
   "execution_count": null,
   "id": "d22c71ff",
   "metadata": {},
   "outputs": [],
   "source": [
    "tag = soup.find_all('b')[2]\n",
    "print(tag)\n",
    "print(tag.string)"
   ]
  },
  {
   "cell_type": "code",
   "execution_count": null,
   "id": "025d0b5b",
   "metadata": {},
   "outputs": [],
   "source": [
    "print(tag)\n",
    "tag.string.replace_with(\"This is another string\")\n",
    "print(tag)"
   ]
  },
  {
   "cell_type": "code",
   "execution_count": null,
   "id": "58092392",
   "metadata": {},
   "outputs": [],
   "source": []
  },
  {
   "cell_type": "code",
   "execution_count": null,
   "id": "7770a2ee",
   "metadata": {},
   "outputs": [],
   "source": []
  },
  {
   "cell_type": "code",
   "execution_count": null,
   "id": "8ffa54b3",
   "metadata": {},
   "outputs": [],
   "source": []
  },
  {
   "cell_type": "code",
   "execution_count": null,
   "id": "2e7599c4",
   "metadata": {},
   "outputs": [],
   "source": [
    "source = requests.get('https://www.techpowerup.com/gpu-specs/')\n",
    "#print(source.status_code)\n",
    "#print(source.headers)\n",
    "src = source.content\n",
    "#print(src)\n",
    "soup = BeautifulSoup(src,'lxml')\n",
    "\n",
    "urls = []\n",
    "for td_tag in soup.find_all('td'):\n",
    "    a_tag = td_tag.find('a')\n",
    "    if a_tag != None:\n",
    "        urls.append(a_tag.attrs['href'])\n",
    "    #print(type(a_tag)\n",
    "   #a_tag = td_tag.find('a')\n",
    "    #urls.append(a_tag.attrs['href'])\n",
    "    \n",
    "print(urls)"
   ]
  },
  {
   "cell_type": "code",
   "execution_count": null,
   "id": "7940b796",
   "metadata": {},
   "outputs": [],
   "source": []
  },
  {
   "cell_type": "code",
   "execution_count": null,
   "id": "627f258f",
   "metadata": {},
   "outputs": [],
   "source": []
  },
  {
   "cell_type": "code",
   "execution_count": null,
   "id": "d80b5a60",
   "metadata": {},
   "outputs": [],
   "source": []
  },
  {
   "cell_type": "code",
   "execution_count": null,
   "id": "25fbf5c8",
   "metadata": {},
   "outputs": [],
   "source": [
    "source = requests.get('https://www.techpowerup.com/gpu-specs/')\n",
    "\n",
    "#print(source.status_code)\n",
    "#print(source.headers)\n",
    "\n",
    "src = source.content\n",
    "#print(src)\n",
    "soup = BeautifulSoup(src,'lxml')\n",
    "\n",
    "links = soup.find_all('a')\n",
    "#print(links)\n",
    "#print(\"\\n\")\n",
    "for link in links:\n",
    "    #if \"About\" in link.text:\n",
    "        #print(link)\n",
    "    print(link.attrs['href'])\n",
    "    #print()"
   ]
  },
  {
   "cell_type": "code",
   "execution_count": null,
   "id": "2b0f8103",
   "metadata": {
    "scrolled": true
   },
   "outputs": [],
   "source": [
    "title = gpu.find('td', class_=\"vendor-NVIDIA\")"
   ]
  },
  {
   "cell_type": "code",
   "execution_count": null,
   "id": "f22a7fa9",
   "metadata": {},
   "outputs": [],
   "source": [
    "print(gpu)"
   ]
  },
  {
   "cell_type": "code",
   "execution_count": null,
   "id": "16aca656",
   "metadata": {},
   "outputs": [],
   "source": []
  },
  {
   "cell_type": "code",
   "execution_count": null,
   "id": "6fe438eb",
   "metadata": {},
   "outputs": [],
   "source": []
  },
  {
   "cell_type": "code",
   "execution_count": null,
   "id": "5c5a139f",
   "metadata": {},
   "outputs": [],
   "source": []
  },
  {
   "cell_type": "code",
   "execution_count": null,
   "id": "750a243d",
   "metadata": {},
   "outputs": [],
   "source": [
    "<td class=\"vendor-NVIDIA\">\n",
    "\t\t<a href=\"/gpu-specs/geforce-rtx-3060.c3682\">GeForce RTX 3060</a>\n",
    "\n",
    "\t\t\t</td>"
   ]
  },
  {
   "cell_type": "code",
   "execution_count": null,
   "id": "5c8bb3f6",
   "metadata": {},
   "outputs": [],
   "source": [
    "try:\n",
    "    source = requests.get('https://www.imdb.com/chart/top/')\n",
    "    source.raise_for_status()\n",
    "    soup = BeautifulSoup(source.text,'html.parser')\n",
    "    movies = soup.find('tbody', class_=\"lister-list\").find_all('tr')\n",
    "    print(movies)\n",
    "    df = pd.DataFrame(columns=['Rank','Name','Year','Rating'])\n",
    "    temp_dict = {}\n",
    "    temp_list = []\n",
    "    \n",
    "    for movie in movies:\n",
    "        name = movie.find('td', class_='titleColumn').a.text\n",
    "        rank = movie.find('td', class_='titleColumn').get_text(strip=True).split('.')[0]\n",
    "        year = movie.find('td', class_='titleColumn').span.text.strip('()')\n",
    "        rating = movie.find('td', class_='ratingColumn imdbRating').strong.text\n",
    "        print(name)\n",
    "        list_key = ['Rank','Name','Year','Rating']\n",
    "        list_value = [rank, name, year, rating]\n",
    "        \n",
    "        for key, value in zip(list_key, list_value):\n",
    "            temp_dict[key] = value\n",
    "            \n",
    "        df = df.append(temp_dict, ignore_index=True, sort=False)\n",
    "   \n",
    "except Exception as e:\n",
    "    print(e)\n",
    "    \n"
   ]
  },
  {
   "cell_type": "code",
   "execution_count": null,
   "id": "6f5a6b36",
   "metadata": {
    "scrolled": true
   },
   "outputs": [],
   "source": [
    "df.head()"
   ]
  },
  {
   "cell_type": "code",
   "execution_count": null,
   "id": "a9bf7632",
   "metadata": {},
   "outputs": [],
   "source": []
  }
 ],
 "metadata": {
  "kernelspec": {
   "display_name": "Python 3 (ipykernel)",
   "language": "python",
   "name": "python3"
  },
  "language_info": {
   "codemirror_mode": {
    "name": "ipython",
    "version": 3
   },
   "file_extension": ".py",
   "mimetype": "text/x-python",
   "name": "python",
   "nbconvert_exporter": "python",
   "pygments_lexer": "ipython3",
   "version": "3.9.7"
  }
 },
 "nbformat": 4,
 "nbformat_minor": 5
}

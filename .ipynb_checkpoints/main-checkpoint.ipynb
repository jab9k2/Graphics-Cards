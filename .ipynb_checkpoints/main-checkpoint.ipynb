{
 "cells": [
  {
   "cell_type": "code",
   "execution_count": 19,
   "id": "48ec4ad1",
   "metadata": {},
   "outputs": [],
   "source": [
    "from bs4 import BeautifulSoup\n",
    "import random\n",
    "import time\n",
    "import requests\n",
    "import pandas as pd\n",
    "import re"
   ]
  },
  {
   "cell_type": "code",
   "execution_count": 2,
   "id": "2d82323a",
   "metadata": {},
   "outputs": [],
   "source": [
    "url = 'https://www.techpowerup.com/gpu-specs/'\n",
    "source = requests.get(url)\n",
    "#print(source.status_code)\n",
    "src = source.content\n",
    "soup = BeautifulSoup(src,'lxml')\n",
    "\n",
    "links = []\n",
    "for i in soup.find('div', class_=\"table-wrapper\").find_all('tr'):\n",
    "    next_page = i.find('a')\n",
    "    if next_page != None:\n",
    "        page_list = next_page.attrs['href'].strip('/gpu-specs/')\n",
    "        links.append(url+page_list)\n",
    "\n"
   ]
  },
  {
   "cell_type": "code",
   "execution_count": 3,
   "id": "79d35b0d",
   "metadata": {},
   "outputs": [
    {
     "name": "stdout",
     "output_type": "stream",
     "text": [
      "['https://www.techpowerup.com/gpu-specs/force-rtx-3060.c3682', 'https://www.techpowerup.com/gpu-specs/force-rtx-3060-ti.c3681', 'https://www.techpowerup.com/gpu-specs/force-rtx-3090-ti.c3829', 'https://www.techpowerup.com/gpu-specs/force-rtx-3050-8-gb.c3858', 'https://www.techpowerup.com/gpu-specs/radeon-rx-6400.c3813', 'https://www.techpowerup.com/gpu-specs/radeon-rx-6600-xt.c3774', 'https://www.techpowerup.com/gpu-specs/force-rtx-3080.c3621', 'https://www.techpowerup.com/gpu-specs/force-rtx-3070.c3674', 'https://www.techpowerup.com/gpu-specs/force-rtx-3070-ti.c3675', 'https://www.techpowerup.com/gpu-specs/radeon-rx-6600.c3696', 'https://www.techpowerup.com/gpu-specs/force-gtx-1050-ti.c2885', 'https://www.techpowerup.com/gpu-specs/force-rtx-2060.c3310', 'https://www.techpowerup.com/gpu-specs/force-gtx-1650.c3366', 'https://www.techpowerup.com/gpu-specs/radeon-rx-6500-xt.c3850', 'https://www.techpowerup.com/gpu-specs/force-gtx-1060-6-gb.c2862', 'https://www.techpowerup.com/gpu-specs/force-rtx-3090.c3622', 'https://www.techpowerup.com/gpu-specs/force-rtx-3080-ti.c3735', 'https://www.techpowerup.com/gpu-specs/radeon-rx-6700-xt.c3695', 'https://www.techpowerup.com/gpu-specs/force-gtx-970.c2620', 'https://www.techpowerup.com/gpu-specs/force-gtx-1080-ti.c2877', 'https://www.techpowerup.com/gpu-specs/radeon-rx-580.c2938', 'https://www.techpowerup.com/gpu-specs/force-gtx-1070.c2840', 'https://www.techpowerup.com/gpu-specs/force-gtx-960.c2637', 'https://www.techpowerup.com/gpu-specs/radeon-rx-6900-xt.c3481', 'https://www.techpowerup.com/gpu-specs/force-gtx-750-ti.c2548', 'https://www.techpowerup.com/gpu-specs/radeon-rx-570.c2939', 'https://www.techpowerup.com/gpu-specs/force-gtx-1080.c2839', 'https://www.techpowerup.com/gpu-specs/force-gt-1030.c2954', 'https://www.techpowerup.com/gpu-specs/force-gtx-1660-super.c3458', 'https://www.techpowerup.com/gpu-specs/radeon-rx-550.c2947', 'https://www.techpowerup.com/gpu-specs/force-gtx-1660-ti.c3364', 'https://www.techpowerup.com/gpu-specs/force-rtx-2080-ti.c3305', 'https://www.techpowerup.com/gpu-specs/force-210.c2020', 'https://www.techpowerup.com/gpu-specs/force-gtx-1050.c2875', 'https://www.techpowerup.com/gpu-specs/force-gtx-550-ti.c274', 'https://www.techpowerup.com/gpu-specs/force-gtx-980-ti.c2724', 'https://www.techpowerup.com/gpu-specs/radeon-rx-6800-xt.c3694', 'https://www.techpowerup.com/gpu-specs/force-gtx-1650-super.c3411', 'https://www.techpowerup.com/gpu-specs/force-gtx-1660.c3365', 'https://www.techpowerup.com/gpu-specs/force-gt-730.c1988', 'https://www.techpowerup.com/gpu-specs/force-rtx-2070-super.c3440', 'https://www.techpowerup.com/gpu-specs/force-rtx-2060-super.c3441', 'https://www.techpowerup.com/gpu-specs/force-rtx-2070.c3252', 'https://www.techpowerup.com/gpu-specs/force-rtx-4090.c3889', 'https://www.techpowerup.com/gpu-specs/radeon-rx-560.c2940', 'https://www.techpowerup.com/gpu-specs/force-gtx-980.c2621', 'https://www.techpowerup.com/gpu-specs/radeon-rx-5700-xt.c3339', 'https://www.techpowerup.com/gpu-specs/force-gtx-950.c2747', 'https://www.techpowerup.com/gpu-specs/force-gtx-580.c270', 'https://www.techpowerup.com/gpu-specs/force-gtx-760.c1857']\n"
     ]
    }
   ],
   "source": [
    "print(links)"
   ]
  },
  {
   "cell_type": "code",
   "execution_count": 51,
   "id": "68a952d5",
   "metadata": {
    "scrolled": true
   },
   "outputs": [
    {
     "ename": "ConnectionError",
     "evalue": "HTTPSConnectionPool(host='www.techpowerup.com', port=443): Max retries exceeded with url: /gpu-specs/force-rtx-3060.c3682 (Caused by NewConnectionError('<urllib3.connection.HTTPSConnection object at 0x000001C9DCB6E1C0>: Failed to establish a new connection: [WinError 10060] A connection attempt failed because the connected party did not properly respond after a period of time, or established connection failed because connected host has failed to respond'))",
     "output_type": "error",
     "traceback": [
      "\u001b[1;31m---------------------------------------------------------------------------\u001b[0m",
      "\u001b[1;31mTimeoutError\u001b[0m                              Traceback (most recent call last)",
      "\u001b[1;32m~\\anaconda3\\lib\\site-packages\\urllib3\\connection.py\u001b[0m in \u001b[0;36m_new_conn\u001b[1;34m(self)\u001b[0m\n\u001b[0;32m    173\u001b[0m         \u001b[1;32mtry\u001b[0m\u001b[1;33m:\u001b[0m\u001b[1;33m\u001b[0m\u001b[1;33m\u001b[0m\u001b[0m\n\u001b[1;32m--> 174\u001b[1;33m             conn = connection.create_connection(\n\u001b[0m\u001b[0;32m    175\u001b[0m                 \u001b[1;33m(\u001b[0m\u001b[0mself\u001b[0m\u001b[1;33m.\u001b[0m\u001b[0m_dns_host\u001b[0m\u001b[1;33m,\u001b[0m \u001b[0mself\u001b[0m\u001b[1;33m.\u001b[0m\u001b[0mport\u001b[0m\u001b[1;33m)\u001b[0m\u001b[1;33m,\u001b[0m \u001b[0mself\u001b[0m\u001b[1;33m.\u001b[0m\u001b[0mtimeout\u001b[0m\u001b[1;33m,\u001b[0m \u001b[1;33m**\u001b[0m\u001b[0mextra_kw\u001b[0m\u001b[1;33m\u001b[0m\u001b[1;33m\u001b[0m\u001b[0m\n",
      "\u001b[1;32m~\\anaconda3\\lib\\site-packages\\urllib3\\util\\connection.py\u001b[0m in \u001b[0;36mcreate_connection\u001b[1;34m(address, timeout, source_address, socket_options)\u001b[0m\n\u001b[0;32m     95\u001b[0m     \u001b[1;32mif\u001b[0m \u001b[0merr\u001b[0m \u001b[1;32mis\u001b[0m \u001b[1;32mnot\u001b[0m \u001b[1;32mNone\u001b[0m\u001b[1;33m:\u001b[0m\u001b[1;33m\u001b[0m\u001b[1;33m\u001b[0m\u001b[0m\n\u001b[1;32m---> 96\u001b[1;33m         \u001b[1;32mraise\u001b[0m \u001b[0merr\u001b[0m\u001b[1;33m\u001b[0m\u001b[1;33m\u001b[0m\u001b[0m\n\u001b[0m\u001b[0;32m     97\u001b[0m \u001b[1;33m\u001b[0m\u001b[0m\n",
      "\u001b[1;32m~\\anaconda3\\lib\\site-packages\\urllib3\\util\\connection.py\u001b[0m in \u001b[0;36mcreate_connection\u001b[1;34m(address, timeout, source_address, socket_options)\u001b[0m\n\u001b[0;32m     85\u001b[0m                 \u001b[0msock\u001b[0m\u001b[1;33m.\u001b[0m\u001b[0mbind\u001b[0m\u001b[1;33m(\u001b[0m\u001b[0msource_address\u001b[0m\u001b[1;33m)\u001b[0m\u001b[1;33m\u001b[0m\u001b[1;33m\u001b[0m\u001b[0m\n\u001b[1;32m---> 86\u001b[1;33m             \u001b[0msock\u001b[0m\u001b[1;33m.\u001b[0m\u001b[0mconnect\u001b[0m\u001b[1;33m(\u001b[0m\u001b[0msa\u001b[0m\u001b[1;33m)\u001b[0m\u001b[1;33m\u001b[0m\u001b[1;33m\u001b[0m\u001b[0m\n\u001b[0m\u001b[0;32m     87\u001b[0m             \u001b[1;32mreturn\u001b[0m \u001b[0msock\u001b[0m\u001b[1;33m\u001b[0m\u001b[1;33m\u001b[0m\u001b[0m\n",
      "\u001b[1;31mTimeoutError\u001b[0m: [WinError 10060] A connection attempt failed because the connected party did not properly respond after a period of time, or established connection failed because connected host has failed to respond",
      "\nDuring handling of the above exception, another exception occurred:\n",
      "\u001b[1;31mNewConnectionError\u001b[0m                        Traceback (most recent call last)",
      "\u001b[1;32m~\\anaconda3\\lib\\site-packages\\urllib3\\connectionpool.py\u001b[0m in \u001b[0;36murlopen\u001b[1;34m(self, method, url, body, headers, retries, redirect, assert_same_host, timeout, pool_timeout, release_conn, chunked, body_pos, **response_kw)\u001b[0m\n\u001b[0;32m    698\u001b[0m             \u001b[1;31m# Make the request on the httplib connection object.\u001b[0m\u001b[1;33m\u001b[0m\u001b[1;33m\u001b[0m\u001b[0m\n\u001b[1;32m--> 699\u001b[1;33m             httplib_response = self._make_request(\n\u001b[0m\u001b[0;32m    700\u001b[0m                 \u001b[0mconn\u001b[0m\u001b[1;33m,\u001b[0m\u001b[1;33m\u001b[0m\u001b[1;33m\u001b[0m\u001b[0m\n",
      "\u001b[1;32m~\\anaconda3\\lib\\site-packages\\urllib3\\connectionpool.py\u001b[0m in \u001b[0;36m_make_request\u001b[1;34m(self, conn, method, url, timeout, chunked, **httplib_request_kw)\u001b[0m\n\u001b[0;32m    381\u001b[0m         \u001b[1;32mtry\u001b[0m\u001b[1;33m:\u001b[0m\u001b[1;33m\u001b[0m\u001b[1;33m\u001b[0m\u001b[0m\n\u001b[1;32m--> 382\u001b[1;33m             \u001b[0mself\u001b[0m\u001b[1;33m.\u001b[0m\u001b[0m_validate_conn\u001b[0m\u001b[1;33m(\u001b[0m\u001b[0mconn\u001b[0m\u001b[1;33m)\u001b[0m\u001b[1;33m\u001b[0m\u001b[1;33m\u001b[0m\u001b[0m\n\u001b[0m\u001b[0;32m    383\u001b[0m         \u001b[1;32mexcept\u001b[0m \u001b[1;33m(\u001b[0m\u001b[0mSocketTimeout\u001b[0m\u001b[1;33m,\u001b[0m \u001b[0mBaseSSLError\u001b[0m\u001b[1;33m)\u001b[0m \u001b[1;32mas\u001b[0m \u001b[0me\u001b[0m\u001b[1;33m:\u001b[0m\u001b[1;33m\u001b[0m\u001b[1;33m\u001b[0m\u001b[0m\n",
      "\u001b[1;32m~\\anaconda3\\lib\\site-packages\\urllib3\\connectionpool.py\u001b[0m in \u001b[0;36m_validate_conn\u001b[1;34m(self, conn)\u001b[0m\n\u001b[0;32m   1009\u001b[0m         \u001b[1;32mif\u001b[0m \u001b[1;32mnot\u001b[0m \u001b[0mgetattr\u001b[0m\u001b[1;33m(\u001b[0m\u001b[0mconn\u001b[0m\u001b[1;33m,\u001b[0m \u001b[1;34m\"sock\"\u001b[0m\u001b[1;33m,\u001b[0m \u001b[1;32mNone\u001b[0m\u001b[1;33m)\u001b[0m\u001b[1;33m:\u001b[0m  \u001b[1;31m# AppEngine might not have  `.sock`\u001b[0m\u001b[1;33m\u001b[0m\u001b[1;33m\u001b[0m\u001b[0m\n\u001b[1;32m-> 1010\u001b[1;33m             \u001b[0mconn\u001b[0m\u001b[1;33m.\u001b[0m\u001b[0mconnect\u001b[0m\u001b[1;33m(\u001b[0m\u001b[1;33m)\u001b[0m\u001b[1;33m\u001b[0m\u001b[1;33m\u001b[0m\u001b[0m\n\u001b[0m\u001b[0;32m   1011\u001b[0m \u001b[1;33m\u001b[0m\u001b[0m\n",
      "\u001b[1;32m~\\anaconda3\\lib\\site-packages\\urllib3\\connection.py\u001b[0m in \u001b[0;36mconnect\u001b[1;34m(self)\u001b[0m\n\u001b[0;32m    357\u001b[0m         \u001b[1;31m# Add certificate verification\u001b[0m\u001b[1;33m\u001b[0m\u001b[1;33m\u001b[0m\u001b[0m\n\u001b[1;32m--> 358\u001b[1;33m         \u001b[0mconn\u001b[0m \u001b[1;33m=\u001b[0m \u001b[0mself\u001b[0m\u001b[1;33m.\u001b[0m\u001b[0m_new_conn\u001b[0m\u001b[1;33m(\u001b[0m\u001b[1;33m)\u001b[0m\u001b[1;33m\u001b[0m\u001b[1;33m\u001b[0m\u001b[0m\n\u001b[0m\u001b[0;32m    359\u001b[0m         \u001b[0mhostname\u001b[0m \u001b[1;33m=\u001b[0m \u001b[0mself\u001b[0m\u001b[1;33m.\u001b[0m\u001b[0mhost\u001b[0m\u001b[1;33m\u001b[0m\u001b[1;33m\u001b[0m\u001b[0m\n",
      "\u001b[1;32m~\\anaconda3\\lib\\site-packages\\urllib3\\connection.py\u001b[0m in \u001b[0;36m_new_conn\u001b[1;34m(self)\u001b[0m\n\u001b[0;32m    185\u001b[0m         \u001b[1;32mexcept\u001b[0m \u001b[0mSocketError\u001b[0m \u001b[1;32mas\u001b[0m \u001b[0me\u001b[0m\u001b[1;33m:\u001b[0m\u001b[1;33m\u001b[0m\u001b[1;33m\u001b[0m\u001b[0m\n\u001b[1;32m--> 186\u001b[1;33m             raise NewConnectionError(\n\u001b[0m\u001b[0;32m    187\u001b[0m                 \u001b[0mself\u001b[0m\u001b[1;33m,\u001b[0m \u001b[1;34m\"Failed to establish a new connection: %s\"\u001b[0m \u001b[1;33m%\u001b[0m \u001b[0me\u001b[0m\u001b[1;33m\u001b[0m\u001b[1;33m\u001b[0m\u001b[0m\n",
      "\u001b[1;31mNewConnectionError\u001b[0m: <urllib3.connection.HTTPSConnection object at 0x000001C9DCB6E1C0>: Failed to establish a new connection: [WinError 10060] A connection attempt failed because the connected party did not properly respond after a period of time, or established connection failed because connected host has failed to respond",
      "\nDuring handling of the above exception, another exception occurred:\n",
      "\u001b[1;31mMaxRetryError\u001b[0m                             Traceback (most recent call last)",
      "\u001b[1;32m~\\anaconda3\\lib\\site-packages\\requests\\adapters.py\u001b[0m in \u001b[0;36msend\u001b[1;34m(self, request, stream, timeout, verify, cert, proxies)\u001b[0m\n\u001b[0;32m    438\u001b[0m             \u001b[1;32mif\u001b[0m \u001b[1;32mnot\u001b[0m \u001b[0mchunked\u001b[0m\u001b[1;33m:\u001b[0m\u001b[1;33m\u001b[0m\u001b[1;33m\u001b[0m\u001b[0m\n\u001b[1;32m--> 439\u001b[1;33m                 resp = conn.urlopen(\n\u001b[0m\u001b[0;32m    440\u001b[0m                     \u001b[0mmethod\u001b[0m\u001b[1;33m=\u001b[0m\u001b[0mrequest\u001b[0m\u001b[1;33m.\u001b[0m\u001b[0mmethod\u001b[0m\u001b[1;33m,\u001b[0m\u001b[1;33m\u001b[0m\u001b[1;33m\u001b[0m\u001b[0m\n",
      "\u001b[1;32m~\\anaconda3\\lib\\site-packages\\urllib3\\connectionpool.py\u001b[0m in \u001b[0;36murlopen\u001b[1;34m(self, method, url, body, headers, retries, redirect, assert_same_host, timeout, pool_timeout, release_conn, chunked, body_pos, **response_kw)\u001b[0m\n\u001b[0;32m    754\u001b[0m \u001b[1;33m\u001b[0m\u001b[0m\n\u001b[1;32m--> 755\u001b[1;33m             retries = retries.increment(\n\u001b[0m\u001b[0;32m    756\u001b[0m                 \u001b[0mmethod\u001b[0m\u001b[1;33m,\u001b[0m \u001b[0murl\u001b[0m\u001b[1;33m,\u001b[0m \u001b[0merror\u001b[0m\u001b[1;33m=\u001b[0m\u001b[0me\u001b[0m\u001b[1;33m,\u001b[0m \u001b[0m_pool\u001b[0m\u001b[1;33m=\u001b[0m\u001b[0mself\u001b[0m\u001b[1;33m,\u001b[0m \u001b[0m_stacktrace\u001b[0m\u001b[1;33m=\u001b[0m\u001b[0msys\u001b[0m\u001b[1;33m.\u001b[0m\u001b[0mexc_info\u001b[0m\u001b[1;33m(\u001b[0m\u001b[1;33m)\u001b[0m\u001b[1;33m[\u001b[0m\u001b[1;36m2\u001b[0m\u001b[1;33m]\u001b[0m\u001b[1;33m\u001b[0m\u001b[1;33m\u001b[0m\u001b[0m\n",
      "\u001b[1;32m~\\anaconda3\\lib\\site-packages\\urllib3\\util\\retry.py\u001b[0m in \u001b[0;36mincrement\u001b[1;34m(self, method, url, response, error, _pool, _stacktrace)\u001b[0m\n\u001b[0;32m    573\u001b[0m         \u001b[1;32mif\u001b[0m \u001b[0mnew_retry\u001b[0m\u001b[1;33m.\u001b[0m\u001b[0mis_exhausted\u001b[0m\u001b[1;33m(\u001b[0m\u001b[1;33m)\u001b[0m\u001b[1;33m:\u001b[0m\u001b[1;33m\u001b[0m\u001b[1;33m\u001b[0m\u001b[0m\n\u001b[1;32m--> 574\u001b[1;33m             \u001b[1;32mraise\u001b[0m \u001b[0mMaxRetryError\u001b[0m\u001b[1;33m(\u001b[0m\u001b[0m_pool\u001b[0m\u001b[1;33m,\u001b[0m \u001b[0murl\u001b[0m\u001b[1;33m,\u001b[0m \u001b[0merror\u001b[0m \u001b[1;32mor\u001b[0m \u001b[0mResponseError\u001b[0m\u001b[1;33m(\u001b[0m\u001b[0mcause\u001b[0m\u001b[1;33m)\u001b[0m\u001b[1;33m)\u001b[0m\u001b[1;33m\u001b[0m\u001b[1;33m\u001b[0m\u001b[0m\n\u001b[0m\u001b[0;32m    575\u001b[0m \u001b[1;33m\u001b[0m\u001b[0m\n",
      "\u001b[1;31mMaxRetryError\u001b[0m: HTTPSConnectionPool(host='www.techpowerup.com', port=443): Max retries exceeded with url: /gpu-specs/force-rtx-3060.c3682 (Caused by NewConnectionError('<urllib3.connection.HTTPSConnection object at 0x000001C9DCB6E1C0>: Failed to establish a new connection: [WinError 10060] A connection attempt failed because the connected party did not properly respond after a period of time, or established connection failed because connected host has failed to respond'))",
      "\nDuring handling of the above exception, another exception occurred:\n",
      "\u001b[1;31mConnectionError\u001b[0m                           Traceback (most recent call last)",
      "\u001b[1;32m~\\AppData\\Local\\Temp/ipykernel_14984/4106274158.py\u001b[0m in \u001b[0;36m<module>\u001b[1;34m\u001b[0m\n\u001b[0;32m      7\u001b[0m         \u001b[1;32mif\u001b[0m \u001b[0mcounter\u001b[0m \u001b[1;33m<=\u001b[0m \u001b[0mlen\u001b[0m\u001b[1;33m(\u001b[0m\u001b[0mlinks\u001b[0m\u001b[1;33m)\u001b[0m\u001b[1;33m:\u001b[0m\u001b[1;33m\u001b[0m\u001b[1;33m\u001b[0m\u001b[0m\n\u001b[0;32m      8\u001b[0m             \u001b[0mtime\u001b[0m\u001b[1;33m.\u001b[0m\u001b[0msleep\u001b[0m\u001b[1;33m(\u001b[0m\u001b[0mrandom\u001b[0m\u001b[1;33m.\u001b[0m\u001b[0mrandint\u001b[0m\u001b[1;33m(\u001b[0m\u001b[1;36m7\u001b[0m\u001b[1;33m,\u001b[0m \u001b[1;36m14\u001b[0m\u001b[1;33m)\u001b[0m\u001b[1;33m)\u001b[0m\u001b[1;33m\u001b[0m\u001b[1;33m\u001b[0m\u001b[0m\n\u001b[1;32m----> 9\u001b[1;33m             \u001b[0msource\u001b[0m \u001b[1;33m=\u001b[0m \u001b[0mrequests\u001b[0m\u001b[1;33m.\u001b[0m\u001b[0mget\u001b[0m\u001b[1;33m(\u001b[0m\u001b[0mi\u001b[0m\u001b[1;33m)\u001b[0m\u001b[1;33m\u001b[0m\u001b[1;33m\u001b[0m\u001b[0m\n\u001b[0m\u001b[0;32m     10\u001b[0m             \u001b[0mprint\u001b[0m\u001b[1;33m(\u001b[0m\u001b[0msource\u001b[0m\u001b[1;33m.\u001b[0m\u001b[0mstatus_code\u001b[0m\u001b[1;33m)\u001b[0m\u001b[1;33m\u001b[0m\u001b[1;33m\u001b[0m\u001b[0m\n\u001b[0;32m     11\u001b[0m             \u001b[0msrc\u001b[0m \u001b[1;33m=\u001b[0m \u001b[0msource\u001b[0m\u001b[1;33m.\u001b[0m\u001b[0mcontent\u001b[0m\u001b[1;33m\u001b[0m\u001b[1;33m\u001b[0m\u001b[0m\n",
      "\u001b[1;32m~\\anaconda3\\lib\\site-packages\\requests\\api.py\u001b[0m in \u001b[0;36mget\u001b[1;34m(url, params, **kwargs)\u001b[0m\n\u001b[0;32m     73\u001b[0m     \"\"\"\n\u001b[0;32m     74\u001b[0m \u001b[1;33m\u001b[0m\u001b[0m\n\u001b[1;32m---> 75\u001b[1;33m     \u001b[1;32mreturn\u001b[0m \u001b[0mrequest\u001b[0m\u001b[1;33m(\u001b[0m\u001b[1;34m'get'\u001b[0m\u001b[1;33m,\u001b[0m \u001b[0murl\u001b[0m\u001b[1;33m,\u001b[0m \u001b[0mparams\u001b[0m\u001b[1;33m=\u001b[0m\u001b[0mparams\u001b[0m\u001b[1;33m,\u001b[0m \u001b[1;33m**\u001b[0m\u001b[0mkwargs\u001b[0m\u001b[1;33m)\u001b[0m\u001b[1;33m\u001b[0m\u001b[1;33m\u001b[0m\u001b[0m\n\u001b[0m\u001b[0;32m     76\u001b[0m \u001b[1;33m\u001b[0m\u001b[0m\n\u001b[0;32m     77\u001b[0m \u001b[1;33m\u001b[0m\u001b[0m\n",
      "\u001b[1;32m~\\anaconda3\\lib\\site-packages\\requests\\api.py\u001b[0m in \u001b[0;36mrequest\u001b[1;34m(method, url, **kwargs)\u001b[0m\n\u001b[0;32m     59\u001b[0m     \u001b[1;31m# cases, and look like a memory leak in others.\u001b[0m\u001b[1;33m\u001b[0m\u001b[1;33m\u001b[0m\u001b[0m\n\u001b[0;32m     60\u001b[0m     \u001b[1;32mwith\u001b[0m \u001b[0msessions\u001b[0m\u001b[1;33m.\u001b[0m\u001b[0mSession\u001b[0m\u001b[1;33m(\u001b[0m\u001b[1;33m)\u001b[0m \u001b[1;32mas\u001b[0m \u001b[0msession\u001b[0m\u001b[1;33m:\u001b[0m\u001b[1;33m\u001b[0m\u001b[1;33m\u001b[0m\u001b[0m\n\u001b[1;32m---> 61\u001b[1;33m         \u001b[1;32mreturn\u001b[0m \u001b[0msession\u001b[0m\u001b[1;33m.\u001b[0m\u001b[0mrequest\u001b[0m\u001b[1;33m(\u001b[0m\u001b[0mmethod\u001b[0m\u001b[1;33m=\u001b[0m\u001b[0mmethod\u001b[0m\u001b[1;33m,\u001b[0m \u001b[0murl\u001b[0m\u001b[1;33m=\u001b[0m\u001b[0murl\u001b[0m\u001b[1;33m,\u001b[0m \u001b[1;33m**\u001b[0m\u001b[0mkwargs\u001b[0m\u001b[1;33m)\u001b[0m\u001b[1;33m\u001b[0m\u001b[1;33m\u001b[0m\u001b[0m\n\u001b[0m\u001b[0;32m     62\u001b[0m \u001b[1;33m\u001b[0m\u001b[0m\n\u001b[0;32m     63\u001b[0m \u001b[1;33m\u001b[0m\u001b[0m\n",
      "\u001b[1;32m~\\anaconda3\\lib\\site-packages\\requests\\sessions.py\u001b[0m in \u001b[0;36mrequest\u001b[1;34m(self, method, url, params, data, headers, cookies, files, auth, timeout, allow_redirects, proxies, hooks, stream, verify, cert, json)\u001b[0m\n\u001b[0;32m    540\u001b[0m         }\n\u001b[0;32m    541\u001b[0m         \u001b[0msend_kwargs\u001b[0m\u001b[1;33m.\u001b[0m\u001b[0mupdate\u001b[0m\u001b[1;33m(\u001b[0m\u001b[0msettings\u001b[0m\u001b[1;33m)\u001b[0m\u001b[1;33m\u001b[0m\u001b[1;33m\u001b[0m\u001b[0m\n\u001b[1;32m--> 542\u001b[1;33m         \u001b[0mresp\u001b[0m \u001b[1;33m=\u001b[0m \u001b[0mself\u001b[0m\u001b[1;33m.\u001b[0m\u001b[0msend\u001b[0m\u001b[1;33m(\u001b[0m\u001b[0mprep\u001b[0m\u001b[1;33m,\u001b[0m \u001b[1;33m**\u001b[0m\u001b[0msend_kwargs\u001b[0m\u001b[1;33m)\u001b[0m\u001b[1;33m\u001b[0m\u001b[1;33m\u001b[0m\u001b[0m\n\u001b[0m\u001b[0;32m    543\u001b[0m \u001b[1;33m\u001b[0m\u001b[0m\n\u001b[0;32m    544\u001b[0m         \u001b[1;32mreturn\u001b[0m \u001b[0mresp\u001b[0m\u001b[1;33m\u001b[0m\u001b[1;33m\u001b[0m\u001b[0m\n",
      "\u001b[1;32m~\\anaconda3\\lib\\site-packages\\requests\\sessions.py\u001b[0m in \u001b[0;36msend\u001b[1;34m(self, request, **kwargs)\u001b[0m\n\u001b[0;32m    653\u001b[0m \u001b[1;33m\u001b[0m\u001b[0m\n\u001b[0;32m    654\u001b[0m         \u001b[1;31m# Send the request\u001b[0m\u001b[1;33m\u001b[0m\u001b[1;33m\u001b[0m\u001b[0m\n\u001b[1;32m--> 655\u001b[1;33m         \u001b[0mr\u001b[0m \u001b[1;33m=\u001b[0m \u001b[0madapter\u001b[0m\u001b[1;33m.\u001b[0m\u001b[0msend\u001b[0m\u001b[1;33m(\u001b[0m\u001b[0mrequest\u001b[0m\u001b[1;33m,\u001b[0m \u001b[1;33m**\u001b[0m\u001b[0mkwargs\u001b[0m\u001b[1;33m)\u001b[0m\u001b[1;33m\u001b[0m\u001b[1;33m\u001b[0m\u001b[0m\n\u001b[0m\u001b[0;32m    656\u001b[0m \u001b[1;33m\u001b[0m\u001b[0m\n\u001b[0;32m    657\u001b[0m         \u001b[1;31m# Total elapsed time of the request (approximately)\u001b[0m\u001b[1;33m\u001b[0m\u001b[1;33m\u001b[0m\u001b[0m\n",
      "\u001b[1;32m~\\anaconda3\\lib\\site-packages\\requests\\adapters.py\u001b[0m in \u001b[0;36msend\u001b[1;34m(self, request, stream, timeout, verify, cert, proxies)\u001b[0m\n\u001b[0;32m    514\u001b[0m                 \u001b[1;32mraise\u001b[0m \u001b[0mSSLError\u001b[0m\u001b[1;33m(\u001b[0m\u001b[0me\u001b[0m\u001b[1;33m,\u001b[0m \u001b[0mrequest\u001b[0m\u001b[1;33m=\u001b[0m\u001b[0mrequest\u001b[0m\u001b[1;33m)\u001b[0m\u001b[1;33m\u001b[0m\u001b[1;33m\u001b[0m\u001b[0m\n\u001b[0;32m    515\u001b[0m \u001b[1;33m\u001b[0m\u001b[0m\n\u001b[1;32m--> 516\u001b[1;33m             \u001b[1;32mraise\u001b[0m \u001b[0mConnectionError\u001b[0m\u001b[1;33m(\u001b[0m\u001b[0me\u001b[0m\u001b[1;33m,\u001b[0m \u001b[0mrequest\u001b[0m\u001b[1;33m=\u001b[0m\u001b[0mrequest\u001b[0m\u001b[1;33m)\u001b[0m\u001b[1;33m\u001b[0m\u001b[1;33m\u001b[0m\u001b[0m\n\u001b[0m\u001b[0;32m    517\u001b[0m \u001b[1;33m\u001b[0m\u001b[0m\n\u001b[0;32m    518\u001b[0m         \u001b[1;32mexcept\u001b[0m \u001b[0mClosedPoolError\u001b[0m \u001b[1;32mas\u001b[0m \u001b[0me\u001b[0m\u001b[1;33m:\u001b[0m\u001b[1;33m\u001b[0m\u001b[1;33m\u001b[0m\u001b[0m\n",
      "\u001b[1;31mConnectionError\u001b[0m: HTTPSConnectionPool(host='www.techpowerup.com', port=443): Max retries exceeded with url: /gpu-specs/force-rtx-3060.c3682 (Caused by NewConnectionError('<urllib3.connection.HTTPSConnection object at 0x000001C9DCB6E1C0>: Failed to establish a new connection: [WinError 10060] A connection attempt failed because the connected party did not properly respond after a period of time, or established connection failed because connected host has failed to respond'))"
     ]
    }
   ],
   "source": [
    "counter = 0\n",
    "title_list = []\n",
    "col_label_list = []\n",
    "data_list = []\n",
    "while True:\n",
    "    for i in links:\n",
    "        if counter <= len(links):\n",
    "            time.sleep(random.randint(7, 14))\n",
    "            source = requests.get(i)\n",
    "            print(source.status_code)\n",
    "            src = source.content\n",
    "            soup = BeautifulSoup(src,'lxml')\n",
    "            print(f\"-----------{counter}----------\")\n",
    "            title = soup.find('h1', class_=\"gpudb-name\").text\n",
    "            title_list.append(title)\n",
    "            print(title)\n",
    "            stats = soup.find('div').find_all('dl')\n",
    "            for j in stats:\n",
    "                column_label = j.find('dt').text\n",
    "                col_label_list.append(column_label)\n",
    "                data = j.find('dd').text.replace('\\n',\"\").replace('\\t',\"\")\n",
    "                data_list.append(data)\n",
    "            counter+=1\n",
    "    break"
   ]
  },
  {
   "cell_type": "code",
   "execution_count": 48,
   "id": "0245ebd3",
   "metadata": {},
   "outputs": [
    {
     "name": "stdout",
     "output_type": "stream",
     "text": [
      "['NVIDIA GeForce RTX 3060', 'NVIDIA GeForce RTX 3060 Ti', 'NVIDIA GeForce RTX 3090 Ti']\n",
      "['Graphics Processor', 'GPU Name', 'GPU Variant', 'Architecture', 'Foundry', 'Process Size', 'Transistors', 'Die Size', 'Release Date', 'Availability', 'Generation', 'Predecessor', 'Successor', 'Production', 'Launch Price', 'Bus Interface', 'Reviews', 'Base Clock', 'Boost Clock', 'Memory Clock', 'Memory Size', 'Memory Type', 'Memory Bus', 'Bandwidth', 'Shading Units', 'TMUs', 'ROPs', 'SM Count', 'Tensor Cores', 'RT Cores', 'L1 Cache', 'L2 Cache', 'Pixel Rate', 'Texture Rate', 'FP16 (half) performance', 'FP32 (float) performance', 'FP64 (double) performance', 'Slot Width', 'Length', 'Width', 'TDP', 'Suggested PSU', 'Outputs', 'Power Connectors', 'Board Number', 'DirectX', 'OpenGL', 'OpenCL', 'Vulkan', 'CUDA', 'Shader Model', 'Graphics Processor', 'GPU Name', 'GPU Variant', 'Architecture', 'Foundry', 'Process Size', 'Transistors', 'Die Size', 'Release Date', 'Availability', 'Generation', 'Predecessor', 'Successor', 'Production', 'Launch Price', 'Bus Interface', 'Reviews', 'Base Clock', 'Boost Clock', 'Memory Clock', 'Memory Size', 'Memory Type', 'Memory Bus', 'Bandwidth', 'Shading Units', 'TMUs', 'ROPs', 'SM Count', 'Tensor Cores', 'RT Cores', 'L1 Cache', 'L2 Cache', 'Pixel Rate', 'Texture Rate', 'FP16 (half) performance', 'FP32 (float) performance', 'FP64 (double) performance', 'Slot Width', 'Length', 'Width', 'TDP', 'Suggested PSU', 'Outputs', 'Power Connectors', 'Board Number', 'DirectX', 'OpenGL', 'OpenCL', 'Vulkan', 'CUDA', 'Shader Model', 'Graphics Processor', 'GPU Name', 'GPU Variant', 'Architecture', 'Foundry', 'Process Size', 'Transistors', 'Die Size', 'Release Date', 'Availability', 'Generation', 'Predecessor', 'Successor', 'Production', 'Launch Price', 'Bus Interface', 'Reviews', 'Base Clock', 'Boost Clock', 'Memory Clock', 'Memory Size', 'Memory Type', 'Memory Bus', 'Bandwidth', 'Shading Units', 'TMUs', 'ROPs', 'SM Count', 'Tensor Cores', 'RT Cores', 'L1 Cache', 'L2 Cache', 'Pixel Rate', 'Texture Rate', 'FP16 (half) performance', 'FP32 (float) performance', 'FP64 (double) performance', 'Slot Width', 'Length', 'Width', 'Height', 'TDP', 'Suggested PSU', 'Outputs', 'Power Connectors', 'Board Number', 'DirectX', 'OpenGL', 'OpenCL', 'Vulkan', 'CUDA', 'Shader Model']\n",
      "['GA106', '\\nGA106\\n', '\\n\\t\\t\\t\\t\\tGA106-300-A1\\n\\t\\t\\t\\t\\t\\t\\t\\t\\t', 'Ampere', 'Samsung', '8 nm', '12,000 million', '276 mm²', 'Jan 12th, 2021', 'Feb 25th, 2021', '\\nGeForce 30\\n', '\\nGeForce 20\\n', '\\nGeForce 40\\n', 'Active', '329 USD', 'PCIe 4.0 x16', '60 in our database ', '1320 MHz', '1777 MHz', '\\n\\t\\t\\t\\t\\t1875 MHz\\n\\t\\t\\t\\t\\t\\t\\t\\t\\t\\t\\n\\t\\t\\t\\t\\t15 Gbps effective\\n\\t\\t\\t\\t\\t\\t\\t\\t\\t', '\\n\\t\\t\\t\\t\\t12 GB\\n\\t\\t\\t\\t', 'GDDR6', '\\n\\t\\t\\t\\t\\t192 bit\\n\\t\\t\\t\\t', '\\n\\t\\t\\t\\t\\t360.0 GB/s\\n\\t\\t\\t\\t', '\\n\\t\\t\\t\\t\\t3584\\n\\t\\t\\t\\t', '\\n\\t\\t\\t\\t\\t112\\n\\t\\t\\t\\t', '\\n\\t\\t\\t\\t\\t48\\n\\t\\t\\t\\t', '\\n\\t\\t\\t\\t\\t28\\n\\t\\t\\t\\t', '\\n\\t\\t\\t\\t\\t112\\n\\t\\t\\t\\t', '\\n\\t\\t\\t\\t\\t28\\n\\t\\t\\t\\t', '\\n\\t\\t\\t\\t\\t128 KB (per SM)\\n\\t\\t\\t\\t', '\\n\\t\\t\\t\\t\\t3 MB\\n\\t\\t\\t\\t', '\\n\\t\\t\\t\\t\\t85.30 GPixel/s\\n\\t\\t\\t\\t', '\\n\\t\\t\\t\\t\\t199.0 GTexel/s\\n\\t\\t\\t\\t', '\\n\\t\\t\\t\\t\\t12.74 TFLOPS (1:1)\\n', '\\n\\t\\t\\t\\t\\t12.74 TFLOPS\\n\\t\\t\\t\\t', '\\n\\t\\t\\t\\t\\t199.0 GFLOPS (1:64)\\n', 'Dual-slot', '242 mm\\n\\t\\t\\t\\t\\t9.5 inches', '112 mm\\n\\t\\t\\t\\t\\t4.4 inches', '170 W', '450 W', '1x HDMI 2.13x DisplayPort 1.4a', '1x 12-pin', 'PG190 SKU 60', '12 Ultimate (12_2)', '\\n\\t\\t\\t\\t\\t\\t\\t\\t\\t\\t4.6\\n\\t\\t\\t\\t\\t\\t\\t\\t\\t', '3.0', '1.3', '8.6', '6.6', 'GA104', '\\nGA104\\n', '\\n\\t\\t\\t\\t\\tGA104-200-A1\\n\\t\\t\\t\\t\\t\\t\\t\\t\\t', 'Ampere', 'Samsung', '8 nm', '17,400 million', '392 mm²', 'Dec 1st, 2020', 'Dec 2nd, 2020', '\\nGeForce 30\\n', '\\nGeForce 20\\n', '\\nGeForce 40\\n', 'Active', '399 USD', 'PCIe 4.0 x16', '65 in our database ', '1410 MHz', '1665 MHz', '\\n\\t\\t\\t\\t\\t1750 MHz\\n\\t\\t\\t\\t\\t\\t\\t\\t\\t\\t\\n\\t\\t\\t\\t\\t14 Gbps effective\\n\\t\\t\\t\\t\\t\\t\\t\\t\\t', '\\n\\t\\t\\t\\t\\t8 GB\\n\\t\\t\\t\\t', 'GDDR6', '\\n\\t\\t\\t\\t\\t256 bit\\n\\t\\t\\t\\t', '\\n\\t\\t\\t\\t\\t448.0 GB/s\\n\\t\\t\\t\\t', '\\n\\t\\t\\t\\t\\t4864\\n\\t\\t\\t\\t', '\\n\\t\\t\\t\\t\\t152\\n\\t\\t\\t\\t', '\\n\\t\\t\\t\\t\\t80\\n\\t\\t\\t\\t', '\\n\\t\\t\\t\\t\\t38\\n\\t\\t\\t\\t', '\\n\\t\\t\\t\\t\\t152\\n\\t\\t\\t\\t', '\\n\\t\\t\\t\\t\\t38\\n\\t\\t\\t\\t', '\\n\\t\\t\\t\\t\\t128 KB (per SM)\\n\\t\\t\\t\\t', '\\n\\t\\t\\t\\t\\t4 MB\\n\\t\\t\\t\\t', '\\n\\t\\t\\t\\t\\t133.2 GPixel/s\\n\\t\\t\\t\\t', '\\n\\t\\t\\t\\t\\t253.1 GTexel/s\\n\\t\\t\\t\\t', '\\n\\t\\t\\t\\t\\t16.20 TFLOPS (1:1)\\n', '\\n\\t\\t\\t\\t\\t16.20 TFLOPS\\n\\t\\t\\t\\t', '\\n\\t\\t\\t\\t\\t253.1 GFLOPS (1:64)\\n', 'Dual-slot', '242 mm\\n\\t\\t\\t\\t\\t9.5 inches', '112 mm\\n\\t\\t\\t\\t\\t4.4 inches', '200 W', '550 W', '1x HDMI 2.13x DisplayPort 1.4a', '1x 12-pin', 'PG142 SKU 20', '12 Ultimate (12_2)', '\\n\\t\\t\\t\\t\\t\\t\\t\\t\\t\\t4.6\\n\\t\\t\\t\\t\\t\\t\\t\\t\\t', '3.0', '1.3', '8.6', '6.6', 'GA102', '\\nGA102\\n', '\\n\\t\\t\\t\\t\\tGA102-350-A1\\n\\t\\t\\t\\t\\t\\t\\t\\t\\t', 'Ampere', 'Samsung', '8 nm', '28,300 million', '628 mm²', 'Jan 27th, 2022', 'Mar 29th, 2022', '\\nGeForce 30\\n', '\\nGeForce 20\\n', '\\nGeForce 40\\n', 'Active', '1,999 USD', 'PCIe 4.0 x16', '22 in our database ', '1560 MHz', '1860 MHz', '\\n\\t\\t\\t\\t\\t1313 MHz\\n\\t\\t\\t\\t\\t\\t\\t\\t\\t\\t\\n\\t\\t\\t\\t\\t21 Gbps effective\\n\\t\\t\\t\\t\\t\\t\\t\\t\\t', '\\n\\t\\t\\t\\t\\t24 GB\\n\\t\\t\\t\\t', 'GDDR6X', '\\n\\t\\t\\t\\t\\t384 bit\\n\\t\\t\\t\\t', '\\n\\t\\t\\t\\t\\t1,008 GB/s\\n\\t\\t\\t\\t', '\\n\\t\\t\\t\\t\\t10752\\n\\t\\t\\t\\t', '\\n\\t\\t\\t\\t\\t336\\n\\t\\t\\t\\t', '\\n\\t\\t\\t\\t\\t112\\n\\t\\t\\t\\t', '\\n\\t\\t\\t\\t\\t84\\n\\t\\t\\t\\t', '\\n\\t\\t\\t\\t\\t336\\n\\t\\t\\t\\t', '\\n\\t\\t\\t\\t\\t84\\n\\t\\t\\t\\t', '\\n\\t\\t\\t\\t\\t128 KB (per SM)\\n\\t\\t\\t\\t', '\\n\\t\\t\\t\\t\\t6 MB\\n\\t\\t\\t\\t', '\\n\\t\\t\\t\\t\\t208.3 GPixel/s\\n\\t\\t\\t\\t', '\\n\\t\\t\\t\\t\\t625.0 GTexel/s\\n\\t\\t\\t\\t', '\\n\\t\\t\\t\\t\\t40.00 TFLOPS (1:1)\\n', '\\n\\t\\t\\t\\t\\t40.00 TFLOPS\\n\\t\\t\\t\\t', '\\n\\t\\t\\t\\t\\t625.0 GFLOPS (1:64)\\n', 'Triple-slot', '336 mm\\n\\t\\t\\t\\t\\t13.2 inches', '140 mm\\n\\t\\t\\t\\t\\t5.5 inches', '61 mm\\n\\t\\t\\t\\t\\t2.4 inches', '450 W', '850 W', '1x HDMI 2.13x DisplayPort 1.4a', '1x 16-pin', 'PG136 SKU 5', '12 Ultimate (12_2)', '\\n\\t\\t\\t\\t\\t\\t\\t\\t\\t\\t4.6\\n\\t\\t\\t\\t\\t\\t\\t\\t\\t', '3.0', '1.3', '8.6', '6.6']\n"
     ]
    }
   ],
   "source": [
    "print(title_list)\n",
    "print(col_label_list)\n",
    "print(data_list)"
   ]
  },
  {
   "cell_type": "code",
   "execution_count": null,
   "id": "992d535a",
   "metadata": {
    "scrolled": true
   },
   "outputs": [],
   "source": [
    "title = soup2.find('h1', class_=\"gpudb-name\").text\n",
    "#specs = soup2.find('dd', class_=\"gpudb-specs-large__value\")\n",
    "specs1 = soup2.find('div').find_all('dl')\n",
    "#specs2 = soup2.find('dl', class_=\"clearfix\").find_all('div')\n",
    "#specs1 = soup2.find('dl', class_=\"gpudb-specs-large\").find_all('div')\n",
    "print(title)\n",
    "list_info = []\n",
    "list_info_heading = []\n",
    "for spec1 in specs1:\n",
    "    basic_info = spec1.find('dd').text.replace('\\n',\"\").replace('\\t',\"\")\n",
    "    basic_heading = spec1.find('dt').text\n",
    "    list_info.append(basic_info)\n",
    "    list_info_heading.append(basic_heading)\n",
    "    \n",
    "print(list_info_heading)\n",
    "#print(list_info)\n",
    "\n",
    "#for i in list_info:\n",
    "    #print(list_info[i].strip(','))\n",
    "\n",
    "keep = []\n",
    "pattern_sub = ',|,'\n",
    "pattern_find = '\\d+\\.*\\d*|$'\n",
    "#pattern_find = '\\d+|$'\n",
    "\n",
    "test_list = [re.sub(pattern_sub, '', i) for i in list_info]\n",
    "test_list2 = [re.findall(pattern_find, i)[0] for i in test_list]\n",
    "# re.findall('\\d+|$', 'aa33bbb44')[0]\n",
    "#for i in list_info:'/^[+-]?([0-9]+\\.?[0-9]*|\\.[0-9]+)$/'\n",
    "#x = [re.findall(pattern, ' ', i) for i in list_info]\n",
    "#x = list([re.findall(pattern, list_info) for i in list_info])\n",
    "#pattern = '[0-9]'\n",
    "#test_list = [re.sub(pattern, '', i) for i in list_info]\n",
    "\n",
    "#string = ''.join(list_info)\n",
    "#match = re.findall(pattern, string)\n",
    "# Pattern.compile(\"(^|\\\\s)([0-9]+)($|\\\\s)\");\n",
    "# match = re.findall(r\"\\([A-Z]+\\)|Pool ID\", string)\n",
    "\n",
    "  \n",
    "\n",
    "#print(x)    \n",
    "    \n",
    "#print(x)\n",
    "#print(keep)\n",
    "\n",
    "    \n",
    "#print(title)\n",
    "\n",
    "    \n",
    "    #test = spec.find('dd', class_='gpudb-specs-large__value').text \\n\\t\\t\\t\\t\\t\\t\\t\\t\\t\\t\\n\\t\\t\\t\\t\\t\n",
    "    #print(list_value) ,class_='gpudb-specs-large__value'\n",
    "    # ,class_='gpudb-specs-large__title' replace(\"geeks\", \"GeeksforGeeks\", 3))\n",
    "\n",
    "#print(specs1)   .strip('\\t').strip('\\n').strip()\n",
    "    \n",
    "#movies = soup.find('tbody', class_=\"lister-list\").find_all('tr')"
   ]
  },
  {
   "cell_type": "code",
   "execution_count": null,
   "id": "9860af2b",
   "metadata": {
    "scrolled": true
   },
   "outputs": [],
   "source": [
    "print(test_list)  "
   ]
  },
  {
   "cell_type": "code",
   "execution_count": null,
   "id": "30fb77de",
   "metadata": {
    "scrolled": true
   },
   "outputs": [],
   "source": [
    "print(test_list2)"
   ]
  },
  {
   "cell_type": "code",
   "execution_count": null,
   "id": "4f90e51b",
   "metadata": {},
   "outputs": [],
   "source": [
    "#df = pd.read_csv(names=io.StringIO('\\n'.join(list_info_heading)), delim_whitespace=False)\n",
    "#df = pd.DataFrame(list_info_heading)\n",
    "#pd.DataFrame.from_dict(data)\n",
    "temp_dict = {}\n",
    "for key, value in zip(list_info_heading, test_list2):\n",
    "    temp_dict[key] = value  \n",
    "        \n",
    "df = pd.DataFrame(temp_dict, index=[0])\n",
    "\n",
    "\n",
    "#print(list(df.columns))\n",
    "drop_list = ['GPU Name', 'GPU Variant', 'Architecture', 'Foundry', 'Production', 'Slot Width', \n",
    "             'Length', 'Width', 'Height', 'Outputs', 'DirectX', 'OpenGL', 'OpenCL', 'Vulkan', \n",
    "             'Shader Model','Power Connectors','Part Number','Suggested PSU','Predecessor',\n",
    "             'L0 Cache', 'L1 Cache', 'L2 Cache', 'L3 Cache']\n",
    "#columns =['C', 'D']\n",
    "df['Graphics Processor'] = title\n",
    "df = df.drop(columns = drop_list)\n",
    "#df = df.convert_dtypes()\n",
    "#df = df.convert_dtypes().dtypes\n",
    "#df = pd.DataFrame(temp_dict)\n",
    "#df = df.append(temp_dict, ignore_index=True, sort=False)"
   ]
  },
  {
   "cell_type": "code",
   "execution_count": null,
   "id": "86e7d6bf",
   "metadata": {
    "scrolled": true
   },
   "outputs": [],
   "source": [
    "df.info()"
   ]
  },
  {
   "cell_type": "code",
   "execution_count": null,
   "id": "0c3ecade",
   "metadata": {},
   "outputs": [],
   "source": []
  },
  {
   "cell_type": "code",
   "execution_count": null,
   "id": "5c8bb3f6",
   "metadata": {},
   "outputs": [],
   "source": [
    "try:\n",
    "    source = requests.get('https://www.imdb.com/chart/top/')\n",
    "    source.raise_for_status()\n",
    "    soup = BeautifulSoup(source.text,'html.parser')\n",
    "    movies = soup.find('tbody', class_=\"lister-list\").find_all('tr')\n",
    "    print(movies)\n",
    "    df = pd.DataFrame(columns=['Rank','Name','Year','Rating'])\n",
    "    temp_dict = {}\n",
    "    temp_list = []\n",
    "    \n",
    "    for movie in movies:\n",
    "        name = movie.find('td', class_='titleColumn').a.text\n",
    "        rank = movie.find('td', class_='titleColumn').get_text(strip=True).split('.')[0]\n",
    "        year = movie.find('td', class_='titleColumn').span.text.strip('()')\n",
    "        rating = movie.find('td', class_='ratingColumn imdbRating').strong.text\n",
    "        print(name)\n",
    "        list_key = ['Rank','Name','Year','Rating']\n",
    "        list_value = [rank, name, year, rating]\n",
    "        \n",
    "        for key, value in zip(list_key, list_value):\n",
    "            temp_dict[key] = value\n",
    "            \n",
    "        df = df.append(temp_dict, ignore_index=True, sort=False)\n",
    "   \n",
    "except Exception as e:\n",
    "    print(e)\n",
    "    \n"
   ]
  },
  {
   "cell_type": "code",
   "execution_count": null,
   "id": "1d0bbb07",
   "metadata": {
    "scrolled": true
   },
   "outputs": [],
   "source": [
    "df.head()"
   ]
  },
  {
   "cell_type": "code",
   "execution_count": null,
   "id": "ac79b03e",
   "metadata": {},
   "outputs": [],
   "source": []
  }
 ],
 "metadata": {
  "kernelspec": {
   "display_name": "Python 3 (ipykernel)",
   "language": "python",
   "name": "python3"
  },
  "language_info": {
   "codemirror_mode": {
    "name": "ipython",
    "version": 3
   },
   "file_extension": ".py",
   "mimetype": "text/x-python",
   "name": "python",
   "nbconvert_exporter": "python",
   "pygments_lexer": "ipython3",
   "version": "3.9.7"
  }
 },
 "nbformat": 4,
 "nbformat_minor": 5
}
